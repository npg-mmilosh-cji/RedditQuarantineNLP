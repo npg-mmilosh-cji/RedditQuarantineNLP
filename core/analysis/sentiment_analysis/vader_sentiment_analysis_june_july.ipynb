{
 "cells": [
  {
   "cell_type": "code",
   "execution_count": 1,
   "id": "ae873e97",
   "metadata": {},
   "outputs": [
    {
     "name": "stderr",
     "output_type": "stream",
     "text": [
      "[nltk_data] Downloading package vader_lexicon to\n",
      "[nltk_data]     /Users/christineibaraki/nltk_data...\n",
      "[nltk_data]   Package vader_lexicon is already up-to-date!\n"
     ]
    }
   ],
   "source": [
    "import os\n",
    "import sys\n",
    "nb_dir = os.path.split(os.getcwd())[0]\n",
    "if nb_dir not in sys.path:\n",
    "    sys.path.append(nb_dir)\n",
    "    \n",
    "import nltk\n",
    "nltk.download('vader_lexicon')\n",
    "import pandas as pd\n",
    "import matplotlib.pyplot as plt\n",
    "import matplotlib.dates as mdates\n",
    "import datetime as dt\n",
    "from nltk.sentiment.vader import SentimentIntensityAnalyzer"
   ]
  },
  {
   "cell_type": "code",
   "execution_count": 2,
   "id": "9afe7ecb",
   "metadata": {},
   "outputs": [],
   "source": [
    "sid = SentimentIntensityAnalyzer()"
   ]
  },
  {
   "cell_type": "code",
   "execution_count": 3,
   "id": "53a9ec35",
   "metadata": {},
   "outputs": [],
   "source": [
    "# data = pd.read_pickle(\"../../../sampled_processed_extant_posts.pkl\")\n",
    "data = pd.read_pickle(\"../../../all_clean_str_extant_posts.pkl\")"
   ]
  },
  {
   "cell_type": "code",
   "execution_count": 4,
   "id": "600561df",
   "metadata": {},
   "outputs": [
    {
     "name": "stdout",
     "output_type": "stream",
     "text": [
      "rows in data: 8983413\n"
     ]
    }
   ],
   "source": [
    "print(f\"rows in data: {len(data)}\")"
   ]
  },
  {
   "cell_type": "code",
   "execution_count": 5,
   "id": "36c60c0e",
   "metadata": {},
   "outputs": [
    {
     "data": {
      "text/html": [
       "<div>\n",
       "<style scoped>\n",
       "    .dataframe tbody tr th:only-of-type {\n",
       "        vertical-align: middle;\n",
       "    }\n",
       "\n",
       "    .dataframe tbody tr th {\n",
       "        vertical-align: top;\n",
       "    }\n",
       "\n",
       "    .dataframe thead th {\n",
       "        text-align: right;\n",
       "    }\n",
       "</style>\n",
       "<table border=\"1\" class=\"dataframe\">\n",
       "  <thead>\n",
       "    <tr style=\"text-align: right;\">\n",
       "      <th></th>\n",
       "      <th>orig_selftext</th>\n",
       "      <th>text_clean_space</th>\n",
       "      <th>text_clean_punc_lower</th>\n",
       "      <th>len_clean</th>\n",
       "    </tr>\n",
       "  </thead>\n",
       "  <tbody>\n",
       "    <tr>\n",
       "      <th>0</th>\n",
       "      <td>Another one of their smug, preachy ass headlin...</td>\n",
       "      <td>Another one of their smug, preachy ass headlin...</td>\n",
       "      <td>another one of their smug preachy ass headline...</td>\n",
       "      <td>70</td>\n",
       "    </tr>\n",
       "    <tr>\n",
       "      <th>1</th>\n",
       "      <td>enema has been pretending to be a rapper for y...</td>\n",
       "      <td>enema has been pretending to be a rapper for y...</td>\n",
       "      <td>enema has been pretending to be a rapper for y...</td>\n",
       "      <td>105</td>\n",
       "    </tr>\n",
       "    <tr>\n",
       "      <th>2</th>\n",
       "      <td>That area from Abilene to border (I-20 to I-10...</td>\n",
       "      <td>That area from Abilene to border (I-20 to I-10...</td>\n",
       "      <td>that area from abilene to border i20 to i10 an...</td>\n",
       "      <td>92</td>\n",
       "    </tr>\n",
       "    <tr>\n",
       "      <th>3</th>\n",
       "      <td>She's got the politician fist point down</td>\n",
       "      <td>She's got the politician fist point down</td>\n",
       "      <td>shes got the politician fist point down</td>\n",
       "      <td>39</td>\n",
       "    </tr>\n",
       "    <tr>\n",
       "      <th>4</th>\n",
       "      <td>Imagine getting paid to drop three words on a ...</td>\n",
       "      <td>Imagine getting paid to drop three words on a ...</td>\n",
       "      <td>imagine getting paid to drop three words on a ...</td>\n",
       "      <td>62</td>\n",
       "    </tr>\n",
       "  </tbody>\n",
       "</table>\n",
       "</div>"
      ],
      "text/plain": [
       "                                       orig_selftext  \\\n",
       "0  Another one of their smug, preachy ass headlin...   \n",
       "1  enema has been pretending to be a rapper for y...   \n",
       "2  That area from Abilene to border (I-20 to I-10...   \n",
       "3           She's got the politician fist point down   \n",
       "4  Imagine getting paid to drop three words on a ...   \n",
       "\n",
       "                                    text_clean_space  \\\n",
       "0  Another one of their smug, preachy ass headlin...   \n",
       "1  enema has been pretending to be a rapper for y...   \n",
       "2  That area from Abilene to border (I-20 to I-10...   \n",
       "3           She's got the politician fist point down   \n",
       "4  Imagine getting paid to drop three words on a ...   \n",
       "\n",
       "                               text_clean_punc_lower  len_clean  \n",
       "0  another one of their smug preachy ass headline...         70  \n",
       "1  enema has been pretending to be a rapper for y...        105  \n",
       "2  that area from abilene to border i20 to i10 an...         92  \n",
       "3            shes got the politician fist point down         39  \n",
       "4  imagine getting paid to drop three words on a ...         62  "
      ]
     },
     "execution_count": 5,
     "metadata": {},
     "output_type": "execute_result"
    }
   ],
   "source": [
    "# data = data.sample(frac=0.001)\n",
    "# print(f\"rows in data: {len(data)}\")\n",
    "data.head()"
   ]
  },
  {
   "cell_type": "code",
   "execution_count": 6,
   "id": "19d60996",
   "metadata": {},
   "outputs": [],
   "source": [
    "def parse_vader_scores(post):\n",
    "    score_dict = sid.polarity_scores(post)\n",
    "    return score_dict['neg'], score_dict['neu'], score_dict['pos'], score_dict['compound']"
   ]
  },
  {
   "cell_type": "code",
   "execution_count": 7,
   "id": "d7b9a01f",
   "metadata": {},
   "outputs": [
    {
     "ename": "KeyboardInterrupt",
     "evalue": "",
     "output_type": "error",
     "traceback": [
      "\u001b[0;31m---------------------------------------------------------------------------\u001b[0m",
      "\u001b[0;31mKeyboardInterrupt\u001b[0m                         Traceback (most recent call last)",
      "\u001b[0;32m<ipython-input-7-47531bc07b83>\u001b[0m in \u001b[0;36m<module>\u001b[0;34m\u001b[0m\n\u001b[0;32m----> 1\u001b[0;31m processed_scores_columns = data.apply(\n\u001b[0m\u001b[1;32m      2\u001b[0m     lambda row: parse_vader_scores(row['text_clean_space']), axis='columns', result_type='expand')\n",
      "\u001b[0;32m~/Documents/workspace/RedditQuarantineNLP/env/lib/python3.8/site-packages/pandas/core/frame.py\u001b[0m in \u001b[0;36mapply\u001b[0;34m(self, func, axis, raw, result_type, args, **kwds)\u001b[0m\n\u001b[1;32m   7766\u001b[0m             \u001b[0mkwds\u001b[0m\u001b[0;34m=\u001b[0m\u001b[0mkwds\u001b[0m\u001b[0;34m,\u001b[0m\u001b[0;34m\u001b[0m\u001b[0;34m\u001b[0m\u001b[0m\n\u001b[1;32m   7767\u001b[0m         )\n\u001b[0;32m-> 7768\u001b[0;31m         \u001b[0;32mreturn\u001b[0m \u001b[0mop\u001b[0m\u001b[0;34m.\u001b[0m\u001b[0mget_result\u001b[0m\u001b[0;34m(\u001b[0m\u001b[0;34m)\u001b[0m\u001b[0;34m\u001b[0m\u001b[0;34m\u001b[0m\u001b[0m\n\u001b[0m\u001b[1;32m   7769\u001b[0m \u001b[0;34m\u001b[0m\u001b[0m\n\u001b[1;32m   7770\u001b[0m     \u001b[0;32mdef\u001b[0m \u001b[0mapplymap\u001b[0m\u001b[0;34m(\u001b[0m\u001b[0mself\u001b[0m\u001b[0;34m,\u001b[0m \u001b[0mfunc\u001b[0m\u001b[0;34m,\u001b[0m \u001b[0mna_action\u001b[0m\u001b[0;34m:\u001b[0m \u001b[0mOptional\u001b[0m\u001b[0;34m[\u001b[0m\u001b[0mstr\u001b[0m\u001b[0;34m]\u001b[0m \u001b[0;34m=\u001b[0m \u001b[0;32mNone\u001b[0m\u001b[0;34m)\u001b[0m \u001b[0;34m->\u001b[0m \u001b[0mDataFrame\u001b[0m\u001b[0;34m:\u001b[0m\u001b[0;34m\u001b[0m\u001b[0;34m\u001b[0m\u001b[0m\n",
      "\u001b[0;32m~/Documents/workspace/RedditQuarantineNLP/env/lib/python3.8/site-packages/pandas/core/apply.py\u001b[0m in \u001b[0;36mget_result\u001b[0;34m(self)\u001b[0m\n\u001b[1;32m    183\u001b[0m             \u001b[0;32mreturn\u001b[0m \u001b[0mself\u001b[0m\u001b[0;34m.\u001b[0m\u001b[0mapply_raw\u001b[0m\u001b[0;34m(\u001b[0m\u001b[0;34m)\u001b[0m\u001b[0;34m\u001b[0m\u001b[0;34m\u001b[0m\u001b[0m\n\u001b[1;32m    184\u001b[0m \u001b[0;34m\u001b[0m\u001b[0m\n\u001b[0;32m--> 185\u001b[0;31m         \u001b[0;32mreturn\u001b[0m \u001b[0mself\u001b[0m\u001b[0;34m.\u001b[0m\u001b[0mapply_standard\u001b[0m\u001b[0;34m(\u001b[0m\u001b[0;34m)\u001b[0m\u001b[0;34m\u001b[0m\u001b[0;34m\u001b[0m\u001b[0m\n\u001b[0m\u001b[1;32m    186\u001b[0m \u001b[0;34m\u001b[0m\u001b[0m\n\u001b[1;32m    187\u001b[0m     \u001b[0;32mdef\u001b[0m \u001b[0mapply_empty_result\u001b[0m\u001b[0;34m(\u001b[0m\u001b[0mself\u001b[0m\u001b[0;34m)\u001b[0m\u001b[0;34m:\u001b[0m\u001b[0;34m\u001b[0m\u001b[0;34m\u001b[0m\u001b[0m\n",
      "\u001b[0;32m~/Documents/workspace/RedditQuarantineNLP/env/lib/python3.8/site-packages/pandas/core/apply.py\u001b[0m in \u001b[0;36mapply_standard\u001b[0;34m(self)\u001b[0m\n\u001b[1;32m    274\u001b[0m \u001b[0;34m\u001b[0m\u001b[0m\n\u001b[1;32m    275\u001b[0m     \u001b[0;32mdef\u001b[0m \u001b[0mapply_standard\u001b[0m\u001b[0;34m(\u001b[0m\u001b[0mself\u001b[0m\u001b[0;34m)\u001b[0m\u001b[0;34m:\u001b[0m\u001b[0;34m\u001b[0m\u001b[0;34m\u001b[0m\u001b[0m\n\u001b[0;32m--> 276\u001b[0;31m         \u001b[0mresults\u001b[0m\u001b[0;34m,\u001b[0m \u001b[0mres_index\u001b[0m \u001b[0;34m=\u001b[0m \u001b[0mself\u001b[0m\u001b[0;34m.\u001b[0m\u001b[0mapply_series_generator\u001b[0m\u001b[0;34m(\u001b[0m\u001b[0;34m)\u001b[0m\u001b[0;34m\u001b[0m\u001b[0;34m\u001b[0m\u001b[0m\n\u001b[0m\u001b[1;32m    277\u001b[0m \u001b[0;34m\u001b[0m\u001b[0m\n\u001b[1;32m    278\u001b[0m         \u001b[0;31m# wrap results\u001b[0m\u001b[0;34m\u001b[0m\u001b[0;34m\u001b[0m\u001b[0;34m\u001b[0m\u001b[0m\n",
      "\u001b[0;32m~/Documents/workspace/RedditQuarantineNLP/env/lib/python3.8/site-packages/pandas/core/apply.py\u001b[0m in \u001b[0;36mapply_series_generator\u001b[0;34m(self)\u001b[0m\n\u001b[1;32m    288\u001b[0m             \u001b[0;32mfor\u001b[0m \u001b[0mi\u001b[0m\u001b[0;34m,\u001b[0m \u001b[0mv\u001b[0m \u001b[0;32min\u001b[0m \u001b[0menumerate\u001b[0m\u001b[0;34m(\u001b[0m\u001b[0mseries_gen\u001b[0m\u001b[0;34m)\u001b[0m\u001b[0;34m:\u001b[0m\u001b[0;34m\u001b[0m\u001b[0;34m\u001b[0m\u001b[0m\n\u001b[1;32m    289\u001b[0m                 \u001b[0;31m# ignore SettingWithCopy here in case the user mutates\u001b[0m\u001b[0;34m\u001b[0m\u001b[0;34m\u001b[0m\u001b[0;34m\u001b[0m\u001b[0m\n\u001b[0;32m--> 290\u001b[0;31m                 \u001b[0mresults\u001b[0m\u001b[0;34m[\u001b[0m\u001b[0mi\u001b[0m\u001b[0;34m]\u001b[0m \u001b[0;34m=\u001b[0m \u001b[0mself\u001b[0m\u001b[0;34m.\u001b[0m\u001b[0mf\u001b[0m\u001b[0;34m(\u001b[0m\u001b[0mv\u001b[0m\u001b[0;34m)\u001b[0m\u001b[0;34m\u001b[0m\u001b[0;34m\u001b[0m\u001b[0m\n\u001b[0m\u001b[1;32m    291\u001b[0m                 \u001b[0;32mif\u001b[0m \u001b[0misinstance\u001b[0m\u001b[0;34m(\u001b[0m\u001b[0mresults\u001b[0m\u001b[0;34m[\u001b[0m\u001b[0mi\u001b[0m\u001b[0;34m]\u001b[0m\u001b[0;34m,\u001b[0m \u001b[0mABCSeries\u001b[0m\u001b[0;34m)\u001b[0m\u001b[0;34m:\u001b[0m\u001b[0;34m\u001b[0m\u001b[0;34m\u001b[0m\u001b[0m\n\u001b[1;32m    292\u001b[0m                     \u001b[0;31m# If we have a view on v, we need to make a copy because\u001b[0m\u001b[0;34m\u001b[0m\u001b[0;34m\u001b[0m\u001b[0;34m\u001b[0m\u001b[0m\n",
      "\u001b[0;32m<ipython-input-7-47531bc07b83>\u001b[0m in \u001b[0;36m<lambda>\u001b[0;34m(row)\u001b[0m\n\u001b[1;32m      1\u001b[0m processed_scores_columns = data.apply(\n\u001b[0;32m----> 2\u001b[0;31m     lambda row: parse_vader_scores(row['text_clean_space']), axis='columns', result_type='expand')\n\u001b[0m",
      "\u001b[0;32m<ipython-input-6-70db3b6227ca>\u001b[0m in \u001b[0;36mparse_vader_scores\u001b[0;34m(post)\u001b[0m\n\u001b[1;32m      1\u001b[0m \u001b[0;32mdef\u001b[0m \u001b[0mparse_vader_scores\u001b[0m\u001b[0;34m(\u001b[0m\u001b[0mpost\u001b[0m\u001b[0;34m)\u001b[0m\u001b[0;34m:\u001b[0m\u001b[0;34m\u001b[0m\u001b[0;34m\u001b[0m\u001b[0m\n\u001b[0;32m----> 2\u001b[0;31m     \u001b[0mscore_dict\u001b[0m \u001b[0;34m=\u001b[0m \u001b[0msid\u001b[0m\u001b[0;34m.\u001b[0m\u001b[0mpolarity_scores\u001b[0m\u001b[0;34m(\u001b[0m\u001b[0mpost\u001b[0m\u001b[0;34m)\u001b[0m\u001b[0;34m\u001b[0m\u001b[0;34m\u001b[0m\u001b[0m\n\u001b[0m\u001b[1;32m      3\u001b[0m     \u001b[0;32mreturn\u001b[0m \u001b[0mscore_dict\u001b[0m\u001b[0;34m[\u001b[0m\u001b[0;34m'neg'\u001b[0m\u001b[0;34m]\u001b[0m\u001b[0;34m,\u001b[0m \u001b[0mscore_dict\u001b[0m\u001b[0;34m[\u001b[0m\u001b[0;34m'neu'\u001b[0m\u001b[0;34m]\u001b[0m\u001b[0;34m,\u001b[0m \u001b[0mscore_dict\u001b[0m\u001b[0;34m[\u001b[0m\u001b[0;34m'pos'\u001b[0m\u001b[0;34m]\u001b[0m\u001b[0;34m,\u001b[0m \u001b[0mscore_dict\u001b[0m\u001b[0;34m[\u001b[0m\u001b[0;34m'compound'\u001b[0m\u001b[0;34m]\u001b[0m\u001b[0;34m\u001b[0m\u001b[0;34m\u001b[0m\u001b[0m\n",
      "\u001b[0;32m~/Documents/workspace/RedditQuarantineNLP/env/lib/python3.8/site-packages/nltk/sentiment/vader.py\u001b[0m in \u001b[0;36mpolarity_scores\u001b[0;34m(self, text)\u001b[0m\n\u001b[1;32m    358\u001b[0m         \"\"\"\n\u001b[1;32m    359\u001b[0m         \u001b[0;31m# text, words_and_emoticons, is_cap_diff = self.preprocess(text)\u001b[0m\u001b[0;34m\u001b[0m\u001b[0;34m\u001b[0m\u001b[0;34m\u001b[0m\u001b[0m\n\u001b[0;32m--> 360\u001b[0;31m         sentitext = SentiText(text, self.constants.PUNC_LIST,\n\u001b[0m\u001b[1;32m    361\u001b[0m                               self.constants.REGEX_REMOVE_PUNCTUATION)\n\u001b[1;32m    362\u001b[0m         \u001b[0msentiments\u001b[0m \u001b[0;34m=\u001b[0m \u001b[0;34m[\u001b[0m\u001b[0;34m]\u001b[0m\u001b[0;34m\u001b[0m\u001b[0;34m\u001b[0m\u001b[0m\n",
      "\u001b[0;32m~/Documents/workspace/RedditQuarantineNLP/env/lib/python3.8/site-packages/nltk/sentiment/vader.py\u001b[0m in \u001b[0;36m__init__\u001b[0;34m(self, text, punc_list, regex_remove_punctuation)\u001b[0m\n\u001b[1;32m    272\u001b[0m         \u001b[0mself\u001b[0m\u001b[0;34m.\u001b[0m\u001b[0mPUNC_LIST\u001b[0m \u001b[0;34m=\u001b[0m \u001b[0mpunc_list\u001b[0m\u001b[0;34m\u001b[0m\u001b[0;34m\u001b[0m\u001b[0m\n\u001b[1;32m    273\u001b[0m         \u001b[0mself\u001b[0m\u001b[0;34m.\u001b[0m\u001b[0mREGEX_REMOVE_PUNCTUATION\u001b[0m \u001b[0;34m=\u001b[0m \u001b[0mregex_remove_punctuation\u001b[0m\u001b[0;34m\u001b[0m\u001b[0;34m\u001b[0m\u001b[0m\n\u001b[0;32m--> 274\u001b[0;31m         \u001b[0mself\u001b[0m\u001b[0;34m.\u001b[0m\u001b[0mwords_and_emoticons\u001b[0m \u001b[0;34m=\u001b[0m \u001b[0mself\u001b[0m\u001b[0;34m.\u001b[0m\u001b[0m_words_and_emoticons\u001b[0m\u001b[0;34m(\u001b[0m\u001b[0;34m)\u001b[0m\u001b[0;34m\u001b[0m\u001b[0;34m\u001b[0m\u001b[0m\n\u001b[0m\u001b[1;32m    275\u001b[0m         \u001b[0;31m# doesn't separate words from\u001b[0m\u001b[0;34m\u001b[0m\u001b[0;34m\u001b[0m\u001b[0;34m\u001b[0m\u001b[0m\n\u001b[1;32m    276\u001b[0m         \u001b[0;31m# adjacent punctuation (keeps emoticons & contractions)\u001b[0m\u001b[0;34m\u001b[0m\u001b[0;34m\u001b[0m\u001b[0;34m\u001b[0m\u001b[0m\n",
      "\u001b[0;32m~/Documents/workspace/RedditQuarantineNLP/env/lib/python3.8/site-packages/nltk/sentiment/vader.py\u001b[0m in \u001b[0;36m_words_and_emoticons\u001b[0;34m(self)\u001b[0m\n\u001b[1;32m    304\u001b[0m         \"\"\"\n\u001b[1;32m    305\u001b[0m         \u001b[0mwes\u001b[0m \u001b[0;34m=\u001b[0m \u001b[0mself\u001b[0m\u001b[0;34m.\u001b[0m\u001b[0mtext\u001b[0m\u001b[0;34m.\u001b[0m\u001b[0msplit\u001b[0m\u001b[0;34m(\u001b[0m\u001b[0;34m)\u001b[0m\u001b[0;34m\u001b[0m\u001b[0;34m\u001b[0m\u001b[0m\n\u001b[0;32m--> 306\u001b[0;31m         \u001b[0mwords_punc_dict\u001b[0m \u001b[0;34m=\u001b[0m \u001b[0mself\u001b[0m\u001b[0;34m.\u001b[0m\u001b[0m_words_plus_punc\u001b[0m\u001b[0;34m(\u001b[0m\u001b[0;34m)\u001b[0m\u001b[0;34m\u001b[0m\u001b[0;34m\u001b[0m\u001b[0m\n\u001b[0m\u001b[1;32m    307\u001b[0m         \u001b[0mwes\u001b[0m \u001b[0;34m=\u001b[0m \u001b[0;34m[\u001b[0m\u001b[0mwe\u001b[0m \u001b[0;32mfor\u001b[0m \u001b[0mwe\u001b[0m \u001b[0;32min\u001b[0m \u001b[0mwes\u001b[0m \u001b[0;32mif\u001b[0m \u001b[0mlen\u001b[0m\u001b[0;34m(\u001b[0m\u001b[0mwe\u001b[0m\u001b[0;34m)\u001b[0m \u001b[0;34m>\u001b[0m \u001b[0;36m1\u001b[0m\u001b[0;34m]\u001b[0m\u001b[0;34m\u001b[0m\u001b[0;34m\u001b[0m\u001b[0m\n\u001b[1;32m    308\u001b[0m         \u001b[0;32mfor\u001b[0m \u001b[0mi\u001b[0m\u001b[0;34m,\u001b[0m \u001b[0mwe\u001b[0m \u001b[0;32min\u001b[0m \u001b[0menumerate\u001b[0m\u001b[0;34m(\u001b[0m\u001b[0mwes\u001b[0m\u001b[0;34m)\u001b[0m\u001b[0;34m:\u001b[0m\u001b[0;34m\u001b[0m\u001b[0;34m\u001b[0m\u001b[0m\n",
      "\u001b[0;32m~/Documents/workspace/RedditQuarantineNLP/env/lib/python3.8/site-packages/nltk/sentiment/vader.py\u001b[0m in \u001b[0;36m_words_plus_punc\u001b[0;34m(self)\u001b[0m\n\u001b[1;32m    291\u001b[0m         \u001b[0mwords_only\u001b[0m \u001b[0;34m=\u001b[0m \u001b[0mset\u001b[0m\u001b[0;34m(\u001b[0m\u001b[0mw\u001b[0m \u001b[0;32mfor\u001b[0m \u001b[0mw\u001b[0m \u001b[0;32min\u001b[0m \u001b[0mwords_only\u001b[0m \u001b[0;32mif\u001b[0m \u001b[0mlen\u001b[0m\u001b[0;34m(\u001b[0m\u001b[0mw\u001b[0m\u001b[0;34m)\u001b[0m \u001b[0;34m>\u001b[0m \u001b[0;36m1\u001b[0m\u001b[0;34m)\u001b[0m\u001b[0;34m\u001b[0m\u001b[0;34m\u001b[0m\u001b[0m\n\u001b[1;32m    292\u001b[0m         \u001b[0;31m# the product gives ('cat', ',') and (',', 'cat')\u001b[0m\u001b[0;34m\u001b[0m\u001b[0;34m\u001b[0m\u001b[0;34m\u001b[0m\u001b[0m\n\u001b[0;32m--> 293\u001b[0;31m         \u001b[0mpunc_before\u001b[0m \u001b[0;34m=\u001b[0m \u001b[0;34m{\u001b[0m\u001b[0;34m\"\"\u001b[0m\u001b[0;34m.\u001b[0m\u001b[0mjoin\u001b[0m\u001b[0;34m(\u001b[0m\u001b[0mp\u001b[0m\u001b[0;34m)\u001b[0m\u001b[0;34m:\u001b[0m \u001b[0mp\u001b[0m\u001b[0;34m[\u001b[0m\u001b[0;36m1\u001b[0m\u001b[0;34m]\u001b[0m \u001b[0;32mfor\u001b[0m \u001b[0mp\u001b[0m \u001b[0;32min\u001b[0m \u001b[0mproduct\u001b[0m\u001b[0;34m(\u001b[0m\u001b[0mself\u001b[0m\u001b[0;34m.\u001b[0m\u001b[0mPUNC_LIST\u001b[0m\u001b[0;34m,\u001b[0m \u001b[0mwords_only\u001b[0m\u001b[0;34m)\u001b[0m\u001b[0;34m}\u001b[0m\u001b[0;34m\u001b[0m\u001b[0;34m\u001b[0m\u001b[0m\n\u001b[0m\u001b[1;32m    294\u001b[0m         \u001b[0mpunc_after\u001b[0m \u001b[0;34m=\u001b[0m \u001b[0;34m{\u001b[0m\u001b[0;34m\"\"\u001b[0m\u001b[0;34m.\u001b[0m\u001b[0mjoin\u001b[0m\u001b[0;34m(\u001b[0m\u001b[0mp\u001b[0m\u001b[0;34m)\u001b[0m\u001b[0;34m:\u001b[0m \u001b[0mp\u001b[0m\u001b[0;34m[\u001b[0m\u001b[0;36m0\u001b[0m\u001b[0;34m]\u001b[0m \u001b[0;32mfor\u001b[0m \u001b[0mp\u001b[0m \u001b[0;32min\u001b[0m \u001b[0mproduct\u001b[0m\u001b[0;34m(\u001b[0m\u001b[0mwords_only\u001b[0m\u001b[0;34m,\u001b[0m \u001b[0mself\u001b[0m\u001b[0;34m.\u001b[0m\u001b[0mPUNC_LIST\u001b[0m\u001b[0;34m)\u001b[0m\u001b[0;34m}\u001b[0m\u001b[0;34m\u001b[0m\u001b[0;34m\u001b[0m\u001b[0m\n\u001b[1;32m    295\u001b[0m         \u001b[0mwords_punc_dict\u001b[0m \u001b[0;34m=\u001b[0m \u001b[0mpunc_before\u001b[0m\u001b[0;34m\u001b[0m\u001b[0;34m\u001b[0m\u001b[0m\n",
      "\u001b[0;32m~/Documents/workspace/RedditQuarantineNLP/env/lib/python3.8/site-packages/nltk/sentiment/vader.py\u001b[0m in \u001b[0;36m<dictcomp>\u001b[0;34m(.0)\u001b[0m\n\u001b[1;32m    291\u001b[0m         \u001b[0mwords_only\u001b[0m \u001b[0;34m=\u001b[0m \u001b[0mset\u001b[0m\u001b[0;34m(\u001b[0m\u001b[0mw\u001b[0m \u001b[0;32mfor\u001b[0m \u001b[0mw\u001b[0m \u001b[0;32min\u001b[0m \u001b[0mwords_only\u001b[0m \u001b[0;32mif\u001b[0m \u001b[0mlen\u001b[0m\u001b[0;34m(\u001b[0m\u001b[0mw\u001b[0m\u001b[0;34m)\u001b[0m \u001b[0;34m>\u001b[0m \u001b[0;36m1\u001b[0m\u001b[0;34m)\u001b[0m\u001b[0;34m\u001b[0m\u001b[0;34m\u001b[0m\u001b[0m\n\u001b[1;32m    292\u001b[0m         \u001b[0;31m# the product gives ('cat', ',') and (',', 'cat')\u001b[0m\u001b[0;34m\u001b[0m\u001b[0;34m\u001b[0m\u001b[0;34m\u001b[0m\u001b[0m\n\u001b[0;32m--> 293\u001b[0;31m         \u001b[0mpunc_before\u001b[0m \u001b[0;34m=\u001b[0m \u001b[0;34m{\u001b[0m\u001b[0;34m\"\"\u001b[0m\u001b[0;34m.\u001b[0m\u001b[0mjoin\u001b[0m\u001b[0;34m(\u001b[0m\u001b[0mp\u001b[0m\u001b[0;34m)\u001b[0m\u001b[0;34m:\u001b[0m \u001b[0mp\u001b[0m\u001b[0;34m[\u001b[0m\u001b[0;36m1\u001b[0m\u001b[0;34m]\u001b[0m \u001b[0;32mfor\u001b[0m \u001b[0mp\u001b[0m \u001b[0;32min\u001b[0m \u001b[0mproduct\u001b[0m\u001b[0;34m(\u001b[0m\u001b[0mself\u001b[0m\u001b[0;34m.\u001b[0m\u001b[0mPUNC_LIST\u001b[0m\u001b[0;34m,\u001b[0m \u001b[0mwords_only\u001b[0m\u001b[0;34m)\u001b[0m\u001b[0;34m}\u001b[0m\u001b[0;34m\u001b[0m\u001b[0;34m\u001b[0m\u001b[0m\n\u001b[0m\u001b[1;32m    294\u001b[0m         \u001b[0mpunc_after\u001b[0m \u001b[0;34m=\u001b[0m \u001b[0;34m{\u001b[0m\u001b[0;34m\"\"\u001b[0m\u001b[0;34m.\u001b[0m\u001b[0mjoin\u001b[0m\u001b[0;34m(\u001b[0m\u001b[0mp\u001b[0m\u001b[0;34m)\u001b[0m\u001b[0;34m:\u001b[0m \u001b[0mp\u001b[0m\u001b[0;34m[\u001b[0m\u001b[0;36m0\u001b[0m\u001b[0;34m]\u001b[0m \u001b[0;32mfor\u001b[0m \u001b[0mp\u001b[0m \u001b[0;32min\u001b[0m \u001b[0mproduct\u001b[0m\u001b[0;34m(\u001b[0m\u001b[0mwords_only\u001b[0m\u001b[0;34m,\u001b[0m \u001b[0mself\u001b[0m\u001b[0;34m.\u001b[0m\u001b[0mPUNC_LIST\u001b[0m\u001b[0;34m)\u001b[0m\u001b[0;34m}\u001b[0m\u001b[0;34m\u001b[0m\u001b[0;34m\u001b[0m\u001b[0m\n\u001b[1;32m    295\u001b[0m         \u001b[0mwords_punc_dict\u001b[0m \u001b[0;34m=\u001b[0m \u001b[0mpunc_before\u001b[0m\u001b[0;34m\u001b[0m\u001b[0;34m\u001b[0m\u001b[0m\n",
      "\u001b[0;31mKeyboardInterrupt\u001b[0m: "
     ]
    }
   ],
   "source": [
    "processed_scores_columns = data.apply(\n",
    "    lambda row: parse_vader_scores(row['text_clean_space']), axis='columns', result_type='expand')"
   ]
  },
  {
   "cell_type": "code",
   "execution_count": null,
   "id": "cd46ff09",
   "metadata": {},
   "outputs": [],
   "source": [
    "processed_scores_columns.columns = ['vader_neg', 'vader_neu', 'vader_pos', 'vader_compound']"
   ]
  },
  {
   "cell_type": "code",
   "execution_count": 9,
   "id": "abb286ca",
   "metadata": {},
   "outputs": [
    {
     "data": {
      "text/html": [
       "<div>\n",
       "<style scoped>\n",
       "    .dataframe tbody tr th:only-of-type {\n",
       "        vertical-align: middle;\n",
       "    }\n",
       "\n",
       "    .dataframe tbody tr th {\n",
       "        vertical-align: top;\n",
       "    }\n",
       "\n",
       "    .dataframe thead th {\n",
       "        text-align: right;\n",
       "    }\n",
       "</style>\n",
       "<table border=\"1\" class=\"dataframe\">\n",
       "  <thead>\n",
       "    <tr style=\"text-align: right;\">\n",
       "      <th></th>\n",
       "      <th>vader_neg</th>\n",
       "      <th>vader_neu</th>\n",
       "      <th>vader_pos</th>\n",
       "      <th>vader_compound</th>\n",
       "    </tr>\n",
       "  </thead>\n",
       "  <tbody>\n",
       "    <tr>\n",
       "      <th>0</th>\n",
       "      <td>0.229</td>\n",
       "      <td>0.654</td>\n",
       "      <td>0.118</td>\n",
       "      <td>-0.4019</td>\n",
       "    </tr>\n",
       "    <tr>\n",
       "      <th>1</th>\n",
       "      <td>0.000</td>\n",
       "      <td>0.928</td>\n",
       "      <td>0.072</td>\n",
       "      <td>0.1027</td>\n",
       "    </tr>\n",
       "    <tr>\n",
       "      <th>2</th>\n",
       "      <td>0.000</td>\n",
       "      <td>1.000</td>\n",
       "      <td>0.000</td>\n",
       "      <td>0.0000</td>\n",
       "    </tr>\n",
       "    <tr>\n",
       "      <th>3</th>\n",
       "      <td>0.000</td>\n",
       "      <td>1.000</td>\n",
       "      <td>0.000</td>\n",
       "      <td>0.0000</td>\n",
       "    </tr>\n",
       "    <tr>\n",
       "      <th>4</th>\n",
       "      <td>0.189</td>\n",
       "      <td>0.811</td>\n",
       "      <td>0.000</td>\n",
       "      <td>-0.2732</td>\n",
       "    </tr>\n",
       "  </tbody>\n",
       "</table>\n",
       "</div>"
      ],
      "text/plain": [
       "   vader_neg  vader_neu  vader_pos  vader_compound\n",
       "0      0.229      0.654      0.118         -0.4019\n",
       "1      0.000      0.928      0.072          0.1027\n",
       "2      0.000      1.000      0.000          0.0000\n",
       "3      0.000      1.000      0.000          0.0000\n",
       "4      0.189      0.811      0.000         -0.2732"
      ]
     },
     "execution_count": 9,
     "metadata": {},
     "output_type": "execute_result"
    }
   ],
   "source": [
    "processed_scores_columns.head()"
   ]
  },
  {
   "cell_type": "code",
   "execution_count": 10,
   "id": "342c6c11",
   "metadata": {},
   "outputs": [],
   "source": [
    "data = pd.concat([data, processed_scores_columns],\n",
    "                         axis='columns')"
   ]
  },
  {
   "cell_type": "code",
   "execution_count": 11,
   "id": "0c56defe",
   "metadata": {},
   "outputs": [
    {
     "name": "stdout",
     "output_type": "stream",
     "text": [
      "The two Nigerian guys played that awesomely!\n",
      "0.4003\n",
      "The judge flips back and forth more than anyone i have ever seen.\n",
      "0.0\n",
      "INB4 \"just don't use Twitter\". How about no. They promote themselves as a neutral platform, which offers legal protections that publishers do not get. How about instead of me not using it, Twitter stops their bias, or, if not, loses platform status so that people who've been slandered by cucks can sue them into oblivion. I'm tired of cuckservatives not standing up for our 1A rights.\n",
      "-0.2589\n",
      "Desperate times called for a scripted take down attempt by the Dems. It was a total failure. Biden now under renewed scrutiny. I bet Obama was the puppet master. Sad\n",
      "-0.8271\n",
      "TRUTH\n",
      "0.3182\n",
      "Breitbart is getting bad lately. I dont think this is a new thing though\n",
      "-0.5423\n",
      "Saved\n",
      "0.4215\n",
      "Your points are actually more interesting than I originally thought. I agree that altruism can be quite pointless, and it is if it only happens in the way you describe. However, I don't believe it only happens in the way you describe. My favorite pastor is John Piper and he calls himself a \"Christian hedonist\" which basically means he pursues Christ for the purpose of his own pleasure, and that is actually what glorifies God most. I believe this is the most consistent explanation for the motivation of the Christians in the first century, based on their writings, and it's the only thing that doesn't require some kind of detached, mindless, joyless obedience. There's a lot more to it but giving Judge Barrett the benefit of the doubt I'd say my answer is that not all altruism is done in vain, though it may be hard for you to envision because of what you know about human nature.\n",
      "0.6597\n",
      "Plainclothes Wakanda Warrior for security?\n",
      "0.34\n",
      "If I can only provide one video or piece of evidence to show someone how fake CNN and the MSM in general is, I show them that Cuomo clip.\n",
      "-0.4767\n"
     ]
    }
   ],
   "source": [
    "for index, row in data.sample(n=10).iterrows():\n",
    "    print(row['text_clean_space'])\n",
    "    print(row['vader_compound'])"
   ]
  },
  {
   "cell_type": "code",
   "execution_count": 12,
   "id": "cff7fc4b",
   "metadata": {},
   "outputs": [
    {
     "data": {
      "text/html": [
       "<div>\n",
       "<style scoped>\n",
       "    .dataframe tbody tr th:only-of-type {\n",
       "        vertical-align: middle;\n",
       "    }\n",
       "\n",
       "    .dataframe tbody tr th {\n",
       "        vertical-align: top;\n",
       "    }\n",
       "\n",
       "    .dataframe thead th {\n",
       "        text-align: right;\n",
       "    }\n",
       "</style>\n",
       "<table border=\"1\" class=\"dataframe\">\n",
       "  <thead>\n",
       "    <tr style=\"text-align: right;\">\n",
       "      <th></th>\n",
       "      <th>orig_selftext</th>\n",
       "      <th>text_clean_space</th>\n",
       "      <th>text_clean_punc_lower</th>\n",
       "      <th>len_clean</th>\n",
       "      <th>vader_neg</th>\n",
       "      <th>vader_neu</th>\n",
       "      <th>vader_pos</th>\n",
       "      <th>vader_compound</th>\n",
       "    </tr>\n",
       "  </thead>\n",
       "  <tbody>\n",
       "    <tr>\n",
       "      <th>0</th>\n",
       "      <td>Another one of their smug, preachy ass headlin...</td>\n",
       "      <td>Another one of their smug, preachy ass headlin...</td>\n",
       "      <td>another one of their smug preachy ass headline...</td>\n",
       "      <td>70</td>\n",
       "      <td>0.229</td>\n",
       "      <td>0.654</td>\n",
       "      <td>0.118</td>\n",
       "      <td>-0.4019</td>\n",
       "    </tr>\n",
       "    <tr>\n",
       "      <th>1</th>\n",
       "      <td>enema has been pretending to be a rapper for y...</td>\n",
       "      <td>enema has been pretending to be a rapper for y...</td>\n",
       "      <td>enema has been pretending to be a rapper for y...</td>\n",
       "      <td>105</td>\n",
       "      <td>0.000</td>\n",
       "      <td>0.928</td>\n",
       "      <td>0.072</td>\n",
       "      <td>0.1027</td>\n",
       "    </tr>\n",
       "    <tr>\n",
       "      <th>2</th>\n",
       "      <td>That area from Abilene to border (I-20 to I-10...</td>\n",
       "      <td>That area from Abilene to border (I-20 to I-10...</td>\n",
       "      <td>that area from abilene to border i20 to i10 an...</td>\n",
       "      <td>92</td>\n",
       "      <td>0.000</td>\n",
       "      <td>1.000</td>\n",
       "      <td>0.000</td>\n",
       "      <td>0.0000</td>\n",
       "    </tr>\n",
       "    <tr>\n",
       "      <th>3</th>\n",
       "      <td>She's got the politician fist point down</td>\n",
       "      <td>She's got the politician fist point down</td>\n",
       "      <td>shes got the politician fist point down</td>\n",
       "      <td>39</td>\n",
       "      <td>0.000</td>\n",
       "      <td>1.000</td>\n",
       "      <td>0.000</td>\n",
       "      <td>0.0000</td>\n",
       "    </tr>\n",
       "    <tr>\n",
       "      <th>4</th>\n",
       "      <td>Imagine getting paid to drop three words on a ...</td>\n",
       "      <td>Imagine getting paid to drop three words on a ...</td>\n",
       "      <td>imagine getting paid to drop three words on a ...</td>\n",
       "      <td>62</td>\n",
       "      <td>0.189</td>\n",
       "      <td>0.811</td>\n",
       "      <td>0.000</td>\n",
       "      <td>-0.2732</td>\n",
       "    </tr>\n",
       "  </tbody>\n",
       "</table>\n",
       "</div>"
      ],
      "text/plain": [
       "                                       orig_selftext  \\\n",
       "0  Another one of their smug, preachy ass headlin...   \n",
       "1  enema has been pretending to be a rapper for y...   \n",
       "2  That area from Abilene to border (I-20 to I-10...   \n",
       "3           She's got the politician fist point down   \n",
       "4  Imagine getting paid to drop three words on a ...   \n",
       "\n",
       "                                    text_clean_space  \\\n",
       "0  Another one of their smug, preachy ass headlin...   \n",
       "1  enema has been pretending to be a rapper for y...   \n",
       "2  That area from Abilene to border (I-20 to I-10...   \n",
       "3           She's got the politician fist point down   \n",
       "4  Imagine getting paid to drop three words on a ...   \n",
       "\n",
       "                               text_clean_punc_lower  len_clean  vader_neg  \\\n",
       "0  another one of their smug preachy ass headline...         70      0.229   \n",
       "1  enema has been pretending to be a rapper for y...        105      0.000   \n",
       "2  that area from abilene to border i20 to i10 an...         92      0.000   \n",
       "3            shes got the politician fist point down         39      0.000   \n",
       "4  imagine getting paid to drop three words on a ...         62      0.189   \n",
       "\n",
       "   vader_neu  vader_pos  vader_compound  \n",
       "0      0.654      0.118         -0.4019  \n",
       "1      0.928      0.072          0.1027  \n",
       "2      1.000      0.000          0.0000  \n",
       "3      1.000      0.000          0.0000  \n",
       "4      0.811      0.000         -0.2732  "
      ]
     },
     "execution_count": 12,
     "metadata": {},
     "output_type": "execute_result"
    }
   ],
   "source": [
    "data.head()"
   ]
  },
  {
   "cell_type": "code",
   "execution_count": 13,
   "id": "293c1b36",
   "metadata": {},
   "outputs": [
    {
     "data": {
      "image/png": "[encoded data removed]",
      "text/plain": [
       "<Figure size 432x288 with 1 Axes>"
      ]
     },
     "metadata": {
      "needs_background": "light"
     },
     "output_type": "display_data"
    }
   ],
   "source": [
    "ax1 = data.plot.scatter(x='len_clean',\n",
    "                      y='vader_compound',\n",
    "                      c='DarkBlue')"
   ]
  },
  {
   "cell_type": "code",
   "execution_count": 14,
   "id": "de4ecc5e",
   "metadata": {},
   "outputs": [
    {
     "data": {
      "image/png": "[encoded data removed]",
      "text/plain": [
       "<Figure size 432x288 with 1 Axes>"
      ]
     },
     "metadata": {
      "needs_background": "light"
     },
     "output_type": "display_data"
    }
   ],
   "source": [
    "ax1 = data.plot.scatter(x='vader_neg',\n",
    "                      y='vader_compound',\n",
    "                      c='DarkBlue')"
   ]
  },
  {
   "cell_type": "code",
   "execution_count": 15,
   "id": "44bc6655",
   "metadata": {},
   "outputs": [
    {
     "data": {
      "image/png": "[encoded data removed]",
      "text/plain": [
       "<Figure size 432x288 with 1 Axes>"
      ]
     },
     "metadata": {
      "needs_background": "light"
     },
     "output_type": "display_data"
    }
   ],
   "source": [
    "ax1 = data.plot.scatter(x='vader_pos',\n",
    "                      y='vader_compound',\n",
    "                      c='DarkBlue')"
   ]
  },
  {
   "cell_type": "code",
   "execution_count": 16,
   "id": "f0ac24b2",
   "metadata": {},
   "outputs": [
    {
     "data": {
      "text/plain": [
       "array([[<AxesSubplot:title={'center':'vader_compound'}>]], dtype=object)"
      ]
     },
     "execution_count": 16,
     "metadata": {},
     "output_type": "execute_result"
    },
    {
     "data": {
      "image/png": "[encoded data removed]",
      "text/plain": [
       "<Figure size 432x288 with 1 Axes>"
      ]
     },
     "metadata": {
      "needs_background": "light"
     },
     "output_type": "display_data"
    }
   ],
   "source": [
    "data.hist(column=\"vader_compound\")"
   ]
  },
  {
   "cell_type": "code",
   "execution_count": 17,
   "id": "50b10dc3",
   "metadata": {},
   "outputs": [],
   "source": [
    "posts_pkl_path = os.path.join('..', '..', '..', \"combined_bigquery_processed.pkl\")\n",
    "posts_df = pd.read_pickle(posts_pkl_path)"
   ]
  },
  {
   "cell_type": "code",
   "execution_count": 18,
   "id": "a02a7adb",
   "metadata": {},
   "outputs": [
    {
     "data": {
      "text/plain": [
       "0    2019-01-31\n",
       "1    2019-02-03\n",
       "2    2019-02-03\n",
       "3    2019-02-02\n",
       "4    2019-02-09\n",
       "Name: created_date, dtype: object"
      ]
     },
     "execution_count": 18,
     "metadata": {},
     "output_type": "execute_result"
    }
   ],
   "source": [
    "posts_df = posts_df['created_date']\n",
    "posts_df.head()"
   ]
  },
  {
   "cell_type": "code",
   "execution_count": 19,
   "id": "5f08a6f3",
   "metadata": {},
   "outputs": [
    {
     "data": {
      "text/plain": [
       "(8983413, 8)"
      ]
     },
     "execution_count": 19,
     "metadata": {},
     "output_type": "execute_result"
    }
   ],
   "source": [
    "data.shape"
   ]
  },
  {
   "cell_type": "code",
   "execution_count": 20,
   "id": "a34cd9b0",
   "metadata": {},
   "outputs": [],
   "source": [
    "data = data.merge(posts_df, left_index = True, right_index = True, how = 'left')"
   ]
  },
  {
   "cell_type": "code",
   "execution_count": 21,
   "id": "9392a280",
   "metadata": {},
   "outputs": [
    {
     "data": {
      "text/plain": [
       "(8983413, 9)"
      ]
     },
     "execution_count": 21,
     "metadata": {},
     "output_type": "execute_result"
    }
   ],
   "source": [
    "data.shape"
   ]
  },
  {
   "cell_type": "code",
   "execution_count": 22,
   "id": "11afa20e",
   "metadata": {},
   "outputs": [
    {
     "data": {
      "text/html": [
       "<div>\n",
       "<style scoped>\n",
       "    .dataframe tbody tr th:only-of-type {\n",
       "        vertical-align: middle;\n",
       "    }\n",
       "\n",
       "    .dataframe tbody tr th {\n",
       "        vertical-align: top;\n",
       "    }\n",
       "\n",
       "    .dataframe thead th {\n",
       "        text-align: right;\n",
       "    }\n",
       "</style>\n",
       "<table border=\"1\" class=\"dataframe\">\n",
       "  <thead>\n",
       "    <tr style=\"text-align: right;\">\n",
       "      <th></th>\n",
       "      <th>orig_selftext</th>\n",
       "      <th>text_clean_space</th>\n",
       "      <th>text_clean_punc_lower</th>\n",
       "      <th>len_clean</th>\n",
       "      <th>vader_neg</th>\n",
       "      <th>vader_neu</th>\n",
       "      <th>vader_pos</th>\n",
       "      <th>vader_compound</th>\n",
       "      <th>created_date</th>\n",
       "    </tr>\n",
       "  </thead>\n",
       "  <tbody>\n",
       "    <tr>\n",
       "      <th>0</th>\n",
       "      <td>Another one of their smug, preachy ass headlin...</td>\n",
       "      <td>Another one of their smug, preachy ass headlin...</td>\n",
       "      <td>another one of their smug preachy ass headline...</td>\n",
       "      <td>70</td>\n",
       "      <td>0.229</td>\n",
       "      <td>0.654</td>\n",
       "      <td>0.118</td>\n",
       "      <td>-0.4019</td>\n",
       "      <td>2019-01-31</td>\n",
       "    </tr>\n",
       "    <tr>\n",
       "      <th>1</th>\n",
       "      <td>enema has been pretending to be a rapper for y...</td>\n",
       "      <td>enema has been pretending to be a rapper for y...</td>\n",
       "      <td>enema has been pretending to be a rapper for y...</td>\n",
       "      <td>105</td>\n",
       "      <td>0.000</td>\n",
       "      <td>0.928</td>\n",
       "      <td>0.072</td>\n",
       "      <td>0.1027</td>\n",
       "      <td>2019-02-03</td>\n",
       "    </tr>\n",
       "    <tr>\n",
       "      <th>2</th>\n",
       "      <td>That area from Abilene to border (I-20 to I-10...</td>\n",
       "      <td>That area from Abilene to border (I-20 to I-10...</td>\n",
       "      <td>that area from abilene to border i20 to i10 an...</td>\n",
       "      <td>92</td>\n",
       "      <td>0.000</td>\n",
       "      <td>1.000</td>\n",
       "      <td>0.000</td>\n",
       "      <td>0.0000</td>\n",
       "      <td>2019-02-03</td>\n",
       "    </tr>\n",
       "    <tr>\n",
       "      <th>3</th>\n",
       "      <td>She's got the politician fist point down</td>\n",
       "      <td>She's got the politician fist point down</td>\n",
       "      <td>shes got the politician fist point down</td>\n",
       "      <td>39</td>\n",
       "      <td>0.000</td>\n",
       "      <td>1.000</td>\n",
       "      <td>0.000</td>\n",
       "      <td>0.0000</td>\n",
       "      <td>2019-02-02</td>\n",
       "    </tr>\n",
       "    <tr>\n",
       "      <th>4</th>\n",
       "      <td>Imagine getting paid to drop three words on a ...</td>\n",
       "      <td>Imagine getting paid to drop three words on a ...</td>\n",
       "      <td>imagine getting paid to drop three words on a ...</td>\n",
       "      <td>62</td>\n",
       "      <td>0.189</td>\n",
       "      <td>0.811</td>\n",
       "      <td>0.000</td>\n",
       "      <td>-0.2732</td>\n",
       "      <td>2019-02-09</td>\n",
       "    </tr>\n",
       "  </tbody>\n",
       "</table>\n",
       "</div>"
      ],
      "text/plain": [
       "                                       orig_selftext  \\\n",
       "0  Another one of their smug, preachy ass headlin...   \n",
       "1  enema has been pretending to be a rapper for y...   \n",
       "2  That area from Abilene to border (I-20 to I-10...   \n",
       "3           She's got the politician fist point down   \n",
       "4  Imagine getting paid to drop three words on a ...   \n",
       "\n",
       "                                    text_clean_space  \\\n",
       "0  Another one of their smug, preachy ass headlin...   \n",
       "1  enema has been pretending to be a rapper for y...   \n",
       "2  That area from Abilene to border (I-20 to I-10...   \n",
       "3           She's got the politician fist point down   \n",
       "4  Imagine getting paid to drop three words on a ...   \n",
       "\n",
       "                               text_clean_punc_lower  len_clean  vader_neg  \\\n",
       "0  another one of their smug preachy ass headline...         70      0.229   \n",
       "1  enema has been pretending to be a rapper for y...        105      0.000   \n",
       "2  that area from abilene to border i20 to i10 an...         92      0.000   \n",
       "3            shes got the politician fist point down         39      0.000   \n",
       "4  imagine getting paid to drop three words on a ...         62      0.189   \n",
       "\n",
       "   vader_neu  vader_pos  vader_compound created_date  \n",
       "0      0.654      0.118         -0.4019   2019-01-31  \n",
       "1      0.928      0.072          0.1027   2019-02-03  \n",
       "2      1.000      0.000          0.0000   2019-02-03  \n",
       "3      1.000      0.000          0.0000   2019-02-02  \n",
       "4      0.811      0.000         -0.2732   2019-02-09  "
      ]
     },
     "execution_count": 22,
     "metadata": {},
     "output_type": "execute_result"
    }
   ],
   "source": [
    "data.head()"
   ]
  },
  {
   "cell_type": "code",
   "execution_count": 43,
   "id": "4c86b076",
   "metadata": {},
   "outputs": [],
   "source": [
    "data['date'] = pd.to_datetime(data['created_date'], format='%Y-%m-%d')\n",
    "data['date'] = data['date'].dt.date"
   ]
  },
  {
   "cell_type": "code",
   "execution_count": 44,
   "id": "b6b52cc6",
   "metadata": {},
   "outputs": [
    {
     "data": {
      "text/plain": [
       "count        8983413\n",
       "unique           366\n",
       "top       2019-02-05\n",
       "freq           54878\n",
       "Name: date, dtype: object"
      ]
     },
     "execution_count": 44,
     "metadata": {},
     "output_type": "execute_result"
    }
   ],
   "source": [
    "data['date'].describe()"
   ]
  },
  {
   "cell_type": "code",
   "execution_count": 66,
   "id": "1a9ddc86",
   "metadata": {},
   "outputs": [],
   "source": [
    "def plot_seven_day_moving_avg(df, col, title, y_axis, counts=False):\n",
    "    \n",
    "    if counts:\n",
    "        compound_date = df.groupby(['date'])[col].size().reset_index()\n",
    "        compound_date.set_index('date', inplace=True)\n",
    "    else:\n",
    "        compound_date = df.groupby(['date'])[col].mean().reset_index()\n",
    "        compound_date.set_index('date', inplace=True)\n",
    "    \n",
    "    MOVING_AVG_WINDOW = 7\n",
    "    compound_date['7_day_avg'] = (compound_date[col].\n",
    "            rolling(window=MOVING_AVG_WINDOW).mean())\n",
    "    \n",
    "    plt.figure(figsize=(20,6))\n",
    "    ax = compound_date['7_day_avg'].plot(linewidth=0.5)\n",
    "    plt.ylabel(y_axis, size=15)\n",
    "    plt.xlabel(\"Date\", size=15)\n",
    "    plt.title(title, size=18)\n",
    "    # Major ticks every month.\n",
    "    fmt_month = mdates.MonthLocator()\n",
    "    ax.xaxis.set_major_locator(fmt_month)\n",
    "\n",
    "    plt.axvline(dt.datetime(2019, 6, 26))"
   ]
  },
  {
   "cell_type": "code",
   "execution_count": 67,
   "id": "fa8cbed2",
   "metadata": {},
   "outputs": [
    {
     "data": {
      "image/png": "[encoded data removed]",
      "text/plain": [
       "<Figure size 1440x432 with 1 Axes>"
      ]
     },
     "metadata": {
      "needs_background": "light"
     },
     "output_type": "display_data"
    }
   ],
   "source": [
    "plot_seven_day_moving_avg(data, 'vader_compound', 'Avg compound sentiment (7-day)', 'Compound Sentiment')"
   ]
  },
  {
   "cell_type": "code",
   "execution_count": 68,
   "id": "bab7cb28",
   "metadata": {},
   "outputs": [
    {
     "data": {
      "image/png": "[encoded data removed]",
      "text/plain": [
       "<Figure size 1440x432 with 1 Axes>"
      ]
     },
     "metadata": {
      "needs_background": "light"
     },
     "output_type": "display_data"
    }
   ],
   "source": [
    "plot_seven_day_moving_avg(data, 'vader_compound', 'Post per day (7-day)', 'Posts', True)"
   ]
  },
  {
   "cell_type": "code",
   "execution_count": 27,
   "id": "0fc075b8",
   "metadata": {},
   "outputs": [],
   "source": [
    "# processed_scores_columns.to_pickle(\"../../all_sentiment_vader.pkl\")"
   ]
  },
  {
   "cell_type": "code",
   "execution_count": 69,
   "id": "a4742e9d",
   "metadata": {},
   "outputs": [
    {
     "data": {
      "text/html": [
       "<div>\n",
       "<style scoped>\n",
       "    .dataframe tbody tr th:only-of-type {\n",
       "        vertical-align: middle;\n",
       "    }\n",
       "\n",
       "    .dataframe tbody tr th {\n",
       "        vertical-align: top;\n",
       "    }\n",
       "\n",
       "    .dataframe thead th {\n",
       "        text-align: right;\n",
       "    }\n",
       "</style>\n",
       "<table border=\"1\" class=\"dataframe\">\n",
       "  <thead>\n",
       "    <tr style=\"text-align: right;\">\n",
       "      <th></th>\n",
       "      <th>orig_selftext</th>\n",
       "      <th>text_clean_space</th>\n",
       "      <th>text_clean_punc_lower</th>\n",
       "      <th>len_clean</th>\n",
       "      <th>vader_neg</th>\n",
       "      <th>vader_neu</th>\n",
       "      <th>vader_pos</th>\n",
       "      <th>vader_compound</th>\n",
       "      <th>created_date</th>\n",
       "      <th>date</th>\n",
       "    </tr>\n",
       "  </thead>\n",
       "  <tbody>\n",
       "    <tr>\n",
       "      <th>0</th>\n",
       "      <td>Another one of their smug, preachy ass headlin...</td>\n",
       "      <td>Another one of their smug, preachy ass headlin...</td>\n",
       "      <td>another one of their smug preachy ass headline...</td>\n",
       "      <td>70</td>\n",
       "      <td>0.229</td>\n",
       "      <td>0.654</td>\n",
       "      <td>0.118</td>\n",
       "      <td>-0.4019</td>\n",
       "      <td>2019-01-31</td>\n",
       "      <td>2019-01-31</td>\n",
       "    </tr>\n",
       "    <tr>\n",
       "      <th>1</th>\n",
       "      <td>enema has been pretending to be a rapper for y...</td>\n",
       "      <td>enema has been pretending to be a rapper for y...</td>\n",
       "      <td>enema has been pretending to be a rapper for y...</td>\n",
       "      <td>105</td>\n",
       "      <td>0.000</td>\n",
       "      <td>0.928</td>\n",
       "      <td>0.072</td>\n",
       "      <td>0.1027</td>\n",
       "      <td>2019-02-03</td>\n",
       "      <td>2019-02-03</td>\n",
       "    </tr>\n",
       "    <tr>\n",
       "      <th>2</th>\n",
       "      <td>That area from Abilene to border (I-20 to I-10...</td>\n",
       "      <td>That area from Abilene to border (I-20 to I-10...</td>\n",
       "      <td>that area from abilene to border i20 to i10 an...</td>\n",
       "      <td>92</td>\n",
       "      <td>0.000</td>\n",
       "      <td>1.000</td>\n",
       "      <td>0.000</td>\n",
       "      <td>0.0000</td>\n",
       "      <td>2019-02-03</td>\n",
       "      <td>2019-02-03</td>\n",
       "    </tr>\n",
       "    <tr>\n",
       "      <th>3</th>\n",
       "      <td>She's got the politician fist point down</td>\n",
       "      <td>She's got the politician fist point down</td>\n",
       "      <td>shes got the politician fist point down</td>\n",
       "      <td>39</td>\n",
       "      <td>0.000</td>\n",
       "      <td>1.000</td>\n",
       "      <td>0.000</td>\n",
       "      <td>0.0000</td>\n",
       "      <td>2019-02-02</td>\n",
       "      <td>2019-02-02</td>\n",
       "    </tr>\n",
       "    <tr>\n",
       "      <th>4</th>\n",
       "      <td>Imagine getting paid to drop three words on a ...</td>\n",
       "      <td>Imagine getting paid to drop three words on a ...</td>\n",
       "      <td>imagine getting paid to drop three words on a ...</td>\n",
       "      <td>62</td>\n",
       "      <td>0.189</td>\n",
       "      <td>0.811</td>\n",
       "      <td>0.000</td>\n",
       "      <td>-0.2732</td>\n",
       "      <td>2019-02-09</td>\n",
       "      <td>2019-02-09</td>\n",
       "    </tr>\n",
       "  </tbody>\n",
       "</table>\n",
       "</div>"
      ],
      "text/plain": [
       "                                       orig_selftext  \\\n",
       "0  Another one of their smug, preachy ass headlin...   \n",
       "1  enema has been pretending to be a rapper for y...   \n",
       "2  That area from Abilene to border (I-20 to I-10...   \n",
       "3           She's got the politician fist point down   \n",
       "4  Imagine getting paid to drop three words on a ...   \n",
       "\n",
       "                                    text_clean_space  \\\n",
       "0  Another one of their smug, preachy ass headlin...   \n",
       "1  enema has been pretending to be a rapper for y...   \n",
       "2  That area from Abilene to border (I-20 to I-10...   \n",
       "3           She's got the politician fist point down   \n",
       "4  Imagine getting paid to drop three words on a ...   \n",
       "\n",
       "                               text_clean_punc_lower  len_clean  vader_neg  \\\n",
       "0  another one of their smug preachy ass headline...         70      0.229   \n",
       "1  enema has been pretending to be a rapper for y...        105      0.000   \n",
       "2  that area from abilene to border i20 to i10 an...         92      0.000   \n",
       "3            shes got the politician fist point down         39      0.000   \n",
       "4  imagine getting paid to drop three words on a ...         62      0.189   \n",
       "\n",
       "   vader_neu  vader_pos  vader_compound created_date        date  \n",
       "0      0.654      0.118         -0.4019   2019-01-31  2019-01-31  \n",
       "1      0.928      0.072          0.1027   2019-02-03  2019-02-03  \n",
       "2      1.000      0.000          0.0000   2019-02-03  2019-02-03  \n",
       "3      1.000      0.000          0.0000   2019-02-02  2019-02-02  \n",
       "4      0.811      0.000         -0.2732   2019-02-09  2019-02-09  "
      ]
     },
     "execution_count": 69,
     "metadata": {},
     "output_type": "execute_result"
    }
   ],
   "source": [
    "data.head()"
   ]
  },
  {
   "cell_type": "code",
   "execution_count": 70,
   "id": "82572fb9",
   "metadata": {},
   "outputs": [],
   "source": [
    "summer_data = data[(data[\"created_date\"] > '2019-05-31') & (data[\"created_date\"] < '2019-08-01')]\n"
   ]
  },
  {
   "cell_type": "code",
   "execution_count": 71,
   "id": "16387d63",
   "metadata": {},
   "outputs": [
    {
     "data": {
      "text/html": [
       "<div>\n",
       "<style scoped>\n",
       "    .dataframe tbody tr th:only-of-type {\n",
       "        vertical-align: middle;\n",
       "    }\n",
       "\n",
       "    .dataframe tbody tr th {\n",
       "        vertical-align: top;\n",
       "    }\n",
       "\n",
       "    .dataframe thead th {\n",
       "        text-align: right;\n",
       "    }\n",
       "</style>\n",
       "<table border=\"1\" class=\"dataframe\">\n",
       "  <thead>\n",
       "    <tr style=\"text-align: right;\">\n",
       "      <th></th>\n",
       "      <th>orig_selftext</th>\n",
       "      <th>text_clean_space</th>\n",
       "      <th>text_clean_punc_lower</th>\n",
       "      <th>len_clean</th>\n",
       "      <th>vader_neg</th>\n",
       "      <th>vader_neu</th>\n",
       "      <th>vader_pos</th>\n",
       "      <th>vader_compound</th>\n",
       "      <th>created_date</th>\n",
       "      <th>date</th>\n",
       "    </tr>\n",
       "  </thead>\n",
       "  <tbody>\n",
       "    <tr>\n",
       "      <th>2490481</th>\n",
       "      <td>Even if they hate Trump they could at least ac...</td>\n",
       "      <td>Even if they hate Trump they could at least ac...</td>\n",
       "      <td>even if they hate trump they could at least ac...</td>\n",
       "      <td>139</td>\n",
       "      <td>0.077</td>\n",
       "      <td>0.788</td>\n",
       "      <td>0.135</td>\n",
       "      <td>0.4133</td>\n",
       "      <td>2019-07-13</td>\n",
       "      <td>2019-07-13</td>\n",
       "    </tr>\n",
       "    <tr>\n",
       "      <th>2490482</th>\n",
       "      <td>Heterosexual reproduction is a mystery to admi...</td>\n",
       "      <td>Heterosexual reproduction is a mystery to admi...</td>\n",
       "      <td>heterosexual reproduction is a mystery to admi...</td>\n",
       "      <td>76</td>\n",
       "      <td>0.167</td>\n",
       "      <td>0.833</td>\n",
       "      <td>0.000</td>\n",
       "      <td>-0.2960</td>\n",
       "      <td>2019-07-02</td>\n",
       "      <td>2019-07-02</td>\n",
       "    </tr>\n",
       "    <tr>\n",
       "      <th>2490483</th>\n",
       "      <td>Were you expecting the actual pope?</td>\n",
       "      <td>Were you expecting the actual pope?</td>\n",
       "      <td>were you expecting the actual pope</td>\n",
       "      <td>34</td>\n",
       "      <td>0.000</td>\n",
       "      <td>1.000</td>\n",
       "      <td>0.000</td>\n",
       "      <td>0.0000</td>\n",
       "      <td>2019-07-15</td>\n",
       "      <td>2019-07-15</td>\n",
       "    </tr>\n",
       "    <tr>\n",
       "      <th>2490484</th>\n",
       "      <td>Be fruitful and multiply, not fruity and blow ...</td>\n",
       "      <td>Be fruitful and multiply, not fruity and blow ...</td>\n",
       "      <td>be fruitful and multiply not fruity and blow a...</td>\n",
       "      <td>50</td>\n",
       "      <td>0.000</td>\n",
       "      <td>1.000</td>\n",
       "      <td>0.000</td>\n",
       "      <td>0.0000</td>\n",
       "      <td>2019-07-22</td>\n",
       "      <td>2019-07-22</td>\n",
       "    </tr>\n",
       "    <tr>\n",
       "      <th>2490485</th>\n",
       "      <td>The term has completely lost all meaning. It's...</td>\n",
       "      <td>The term has completely lost all meaning. It's...</td>\n",
       "      <td>the term has completely lost all meaning its j...</td>\n",
       "      <td>104</td>\n",
       "      <td>0.246</td>\n",
       "      <td>0.754</td>\n",
       "      <td>0.000</td>\n",
       "      <td>-0.5984</td>\n",
       "      <td>2019-07-28</td>\n",
       "      <td>2019-07-28</td>\n",
       "    </tr>\n",
       "  </tbody>\n",
       "</table>\n",
       "</div>"
      ],
      "text/plain": [
       "                                             orig_selftext  \\\n",
       "2490481  Even if they hate Trump they could at least ac...   \n",
       "2490482  Heterosexual reproduction is a mystery to admi...   \n",
       "2490483                Were you expecting the actual pope?   \n",
       "2490484  Be fruitful and multiply, not fruity and blow ...   \n",
       "2490485  The term has completely lost all meaning. It's...   \n",
       "\n",
       "                                          text_clean_space  \\\n",
       "2490481  Even if they hate Trump they could at least ac...   \n",
       "2490482  Heterosexual reproduction is a mystery to admi...   \n",
       "2490483                Were you expecting the actual pope?   \n",
       "2490484  Be fruitful and multiply, not fruity and blow ...   \n",
       "2490485  The term has completely lost all meaning. It's...   \n",
       "\n",
       "                                     text_clean_punc_lower  len_clean  \\\n",
       "2490481  even if they hate trump they could at least ac...        139   \n",
       "2490482  heterosexual reproduction is a mystery to admi...         76   \n",
       "2490483                 were you expecting the actual pope         34   \n",
       "2490484  be fruitful and multiply not fruity and blow a...         50   \n",
       "2490485  the term has completely lost all meaning its j...        104   \n",
       "\n",
       "         vader_neg  vader_neu  vader_pos  vader_compound created_date  \\\n",
       "2490481      0.077      0.788      0.135          0.4133   2019-07-13   \n",
       "2490482      0.167      0.833      0.000         -0.2960   2019-07-02   \n",
       "2490483      0.000      1.000      0.000          0.0000   2019-07-15   \n",
       "2490484      0.000      1.000      0.000          0.0000   2019-07-22   \n",
       "2490485      0.246      0.754      0.000         -0.5984   2019-07-28   \n",
       "\n",
       "               date  \n",
       "2490481  2019-07-13  \n",
       "2490482  2019-07-02  \n",
       "2490483  2019-07-15  \n",
       "2490484  2019-07-22  \n",
       "2490485  2019-07-28  "
      ]
     },
     "execution_count": 71,
     "metadata": {},
     "output_type": "execute_result"
    }
   ],
   "source": [
    "summer_data.head()"
   ]
  },
  {
   "cell_type": "code",
   "execution_count": 72,
   "id": "16e1d51e",
   "metadata": {},
   "outputs": [],
   "source": [
    "summer_data_sample = summer_data.sample(n=1500)"
   ]
  },
  {
   "cell_type": "code",
   "execution_count": 74,
   "id": "e2aa956c",
   "metadata": {},
   "outputs": [
    {
     "data": {
      "text/plain": [
       "(1500, 10)"
      ]
     },
     "execution_count": 74,
     "metadata": {},
     "output_type": "execute_result"
    }
   ],
   "source": [
    "summer_data_sample.shape"
   ]
  },
  {
   "cell_type": "code",
   "execution_count": 76,
   "id": "ab081ba6",
   "metadata": {},
   "outputs": [
    {
     "data": {
      "text/html": [
       "<div>\n",
       "<style scoped>\n",
       "    .dataframe tbody tr th:only-of-type {\n",
       "        vertical-align: middle;\n",
       "    }\n",
       "\n",
       "    .dataframe tbody tr th {\n",
       "        vertical-align: top;\n",
       "    }\n",
       "\n",
       "    .dataframe thead th {\n",
       "        text-align: right;\n",
       "    }\n",
       "</style>\n",
       "<table border=\"1\" class=\"dataframe\">\n",
       "  <thead>\n",
       "    <tr style=\"text-align: right;\">\n",
       "      <th></th>\n",
       "      <th>date</th>\n",
       "      <th>orig_selftext</th>\n",
       "      <th>text_clean_punc_lower</th>\n",
       "    </tr>\n",
       "  </thead>\n",
       "  <tbody>\n",
       "    <tr>\n",
       "      <th>3605270</th>\n",
       "      <td>2019-06-27</td>\n",
       "      <td>So much word salad!</td>\n",
       "      <td>so much word salad</td>\n",
       "    </tr>\n",
       "    <tr>\n",
       "      <th>3844737</th>\n",
       "      <td>2019-06-25</td>\n",
       "      <td>It's pronounced Milly - walk - ayyyy.</td>\n",
       "      <td>its pronounced milly  walk  ayyyy</td>\n",
       "    </tr>\n",
       "    <tr>\n",
       "      <th>4113392</th>\n",
       "      <td>2019-06-14</td>\n",
       "      <td>#There are two kinds of people:\\n\\n**Criminals...</td>\n",
       "      <td>there are two kinds of people criminals and no...</td>\n",
       "    </tr>\n",
       "    <tr>\n",
       "      <th>3035067</th>\n",
       "      <td>2019-07-14</td>\n",
       "      <td>She really is. ����</td>\n",
       "      <td>she really is</td>\n",
       "    </tr>\n",
       "    <tr>\n",
       "      <th>3038117</th>\n",
       "      <td>2019-07-31</td>\n",
       "      <td>I know what you mean, but it is not up to the ...</td>\n",
       "      <td>i know what you mean but it is not up to the b...</td>\n",
       "    </tr>\n",
       "  </tbody>\n",
       "</table>\n",
       "</div>"
      ],
      "text/plain": [
       "               date                                      orig_selftext  \\\n",
       "3605270  2019-06-27                                So much word salad!   \n",
       "3844737  2019-06-25              It's pronounced Milly - walk - ayyyy.   \n",
       "4113392  2019-06-14  #There are two kinds of people:\\n\\n**Criminals...   \n",
       "3035067  2019-07-14                                She really is. ����   \n",
       "3038117  2019-07-31  I know what you mean, but it is not up to the ...   \n",
       "\n",
       "                                     text_clean_punc_lower  \n",
       "3605270                                 so much word salad  \n",
       "3844737                  its pronounced milly  walk  ayyyy  \n",
       "4113392  there are two kinds of people criminals and no...  \n",
       "3035067                                     she really is   \n",
       "3038117  i know what you mean but it is not up to the b...  "
      ]
     },
     "execution_count": 76,
     "metadata": {},
     "output_type": "execute_result"
    }
   ],
   "source": [
    "summer_data_sample_restricted = summer_data_sample[['date','orig_selftext', 'text_clean_punc_lower']]\n",
    "summer_data_sample_restricted.head()"
   ]
  },
  {
   "cell_type": "code",
   "execution_count": 77,
   "id": "0a12f6fc",
   "metadata": {},
   "outputs": [
    {
     "name": "stderr",
     "output_type": "stream",
     "text": [
      "<ipython-input-77-4af9ed899a73>:1: SettingWithCopyWarning: \n",
      "A value is trying to be set on a copy of a slice from a DataFrame.\n",
      "Try using .loc[row_indexer,col_indexer] = value instead\n",
      "\n",
      "See the caveats in the documentation: https://pandas.pydata.org/pandas-docs/stable/user_guide/indexing.html#returning-a-view-versus-a-copy\n",
      "  summer_data_sample_restricted['label'] = \"\"\n"
     ]
    }
   ],
   "source": [
    "summer_data_sample_restricted['label'] = \"\""
   ]
  },
  {
   "cell_type": "code",
   "execution_count": 78,
   "id": "37bc883c",
   "metadata": {},
   "outputs": [
    {
     "data": {
      "text/html": [
       "<div>\n",
       "<style scoped>\n",
       "    .dataframe tbody tr th:only-of-type {\n",
       "        vertical-align: middle;\n",
       "    }\n",
       "\n",
       "    .dataframe tbody tr th {\n",
       "        vertical-align: top;\n",
       "    }\n",
       "\n",
       "    .dataframe thead th {\n",
       "        text-align: right;\n",
       "    }\n",
       "</style>\n",
       "<table border=\"1\" class=\"dataframe\">\n",
       "  <thead>\n",
       "    <tr style=\"text-align: right;\">\n",
       "      <th></th>\n",
       "      <th>date</th>\n",
       "      <th>orig_selftext</th>\n",
       "      <th>text_clean_punc_lower</th>\n",
       "      <th>label</th>\n",
       "    </tr>\n",
       "  </thead>\n",
       "  <tbody>\n",
       "    <tr>\n",
       "      <th>3605270</th>\n",
       "      <td>2019-06-27</td>\n",
       "      <td>So much word salad!</td>\n",
       "      <td>so much word salad</td>\n",
       "      <td></td>\n",
       "    </tr>\n",
       "    <tr>\n",
       "      <th>3844737</th>\n",
       "      <td>2019-06-25</td>\n",
       "      <td>It's pronounced Milly - walk - ayyyy.</td>\n",
       "      <td>its pronounced milly  walk  ayyyy</td>\n",
       "      <td></td>\n",
       "    </tr>\n",
       "    <tr>\n",
       "      <th>4113392</th>\n",
       "      <td>2019-06-14</td>\n",
       "      <td>#There are two kinds of people:\\n\\n**Criminals...</td>\n",
       "      <td>there are two kinds of people criminals and no...</td>\n",
       "      <td></td>\n",
       "    </tr>\n",
       "    <tr>\n",
       "      <th>3035067</th>\n",
       "      <td>2019-07-14</td>\n",
       "      <td>She really is. ����</td>\n",
       "      <td>she really is</td>\n",
       "      <td></td>\n",
       "    </tr>\n",
       "    <tr>\n",
       "      <th>3038117</th>\n",
       "      <td>2019-07-31</td>\n",
       "      <td>I know what you mean, but it is not up to the ...</td>\n",
       "      <td>i know what you mean but it is not up to the b...</td>\n",
       "      <td></td>\n",
       "    </tr>\n",
       "  </tbody>\n",
       "</table>\n",
       "</div>"
      ],
      "text/plain": [
       "               date                                      orig_selftext  \\\n",
       "3605270  2019-06-27                                So much word salad!   \n",
       "3844737  2019-06-25              It's pronounced Milly - walk - ayyyy.   \n",
       "4113392  2019-06-14  #There are two kinds of people:\\n\\n**Criminals...   \n",
       "3035067  2019-07-14                                She really is. ����   \n",
       "3038117  2019-07-31  I know what you mean, but it is not up to the ...   \n",
       "\n",
       "                                     text_clean_punc_lower label  \n",
       "3605270                                 so much word salad        \n",
       "3844737                  its pronounced milly  walk  ayyyy        \n",
       "4113392  there are two kinds of people criminals and no...        \n",
       "3035067                                     she really is         \n",
       "3038117  i know what you mean but it is not up to the b...        "
      ]
     },
     "execution_count": 78,
     "metadata": {},
     "output_type": "execute_result"
    }
   ],
   "source": [
    "summer_data_sample_restricted.head()"
   ]
  },
  {
   "cell_type": "code",
   "execution_count": 86,
   "id": "0f1e6b1c",
   "metadata": {},
   "outputs": [
    {
     "name": "stdout",
     "output_type": "stream",
     "text": [
      "(500, 4)\n",
      "(500, 4)\n",
      "(500, 4)\n"
     ]
    }
   ],
   "source": [
    "set1 = summer_data_sample_restricted.iloc[0:500,]\n",
    "set2 = summer_data_sample_restricted.iloc[500:1000,]\n",
    "set3 = summer_data_sample_restricted.iloc[1000:,]\n",
    "print(set1.shape)\n",
    "print(set2.shape)\n",
    "print(set3.shape)\n",
    "set1.to_csv(\"set_1.csv\")\n",
    "set2.to_csv(\"set_2.csv\")\n",
    "set3.to_csv(\"set_3.csv\")"
   ]
  },
  {
   "cell_type": "code",
   "execution_count": null,
   "id": "86b0311a",
   "metadata": {},
   "outputs": [],
   "source": []
  }
 ],
 "metadata": {
  "kernelspec": {
   "display_name": "Python 3",
   "language": "python",
   "name": "python3"
  },
  "language_info": {
   "codemirror_mode": {
    "name": "ipython",
    "version": 3
   },
   "file_extension": ".py",
   "mimetype": "text/x-python",
   "name": "python",
   "nbconvert_exporter": "python",
   "pygments_lexer": "ipython3",
   "version": "3.8.8"
  }
 },
 "nbformat": 4,
 "nbformat_minor": 5
}
