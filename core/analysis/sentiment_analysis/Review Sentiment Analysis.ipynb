{
 "cells": [
  {
   "cell_type": "code",
   "execution_count": 119,
   "id": "492c7b7e",
   "metadata": {},
   "outputs": [],
   "source": [
    "import os\n",
    "import sys\n",
    "nb_dir = os.path.split(os.getcwd())[0]\n",
    "if nb_dir not in sys.path:\n",
    "    sys.path.append(nb_dir)\n",
    "import pickle\n",
    "import pandas as pd\n",
    "import matplotlib.pyplot as plt\n",
    "import matplotlib.dates as mdates\n",
    "import datetime as dt\n",
    "import seaborn as sns\n",
    "import numpy as np\n",
    "from sklearn.metrics import accuracy_score, precision_score, recall_score, f1_score\n",
    "from sklearn.metrics import confusion_matrix"
   ]
  },
  {
   "cell_type": "code",
   "execution_count": 2,
   "id": "9901060a",
   "metadata": {},
   "outputs": [
    {
     "data": {
      "text/html": [
       "<div>\n",
       "<style scoped>\n",
       "    .dataframe tbody tr th:only-of-type {\n",
       "        vertical-align: middle;\n",
       "    }\n",
       "\n",
       "    .dataframe tbody tr th {\n",
       "        vertical-align: top;\n",
       "    }\n",
       "\n",
       "    .dataframe thead th {\n",
       "        text-align: right;\n",
       "    }\n",
       "</style>\n",
       "<table border=\"1\" class=\"dataframe\">\n",
       "  <thead>\n",
       "    <tr style=\"text-align: right;\">\n",
       "      <th></th>\n",
       "      <th>vader_neg</th>\n",
       "      <th>vader_neu</th>\n",
       "      <th>vader_pos</th>\n",
       "      <th>vader_compound</th>\n",
       "    </tr>\n",
       "  </thead>\n",
       "  <tbody>\n",
       "    <tr>\n",
       "      <th>0</th>\n",
       "      <td>0.229</td>\n",
       "      <td>0.654</td>\n",
       "      <td>0.118</td>\n",
       "      <td>-0.4019</td>\n",
       "    </tr>\n",
       "    <tr>\n",
       "      <th>1</th>\n",
       "      <td>0.000</td>\n",
       "      <td>0.928</td>\n",
       "      <td>0.072</td>\n",
       "      <td>0.1027</td>\n",
       "    </tr>\n",
       "    <tr>\n",
       "      <th>2</th>\n",
       "      <td>0.000</td>\n",
       "      <td>1.000</td>\n",
       "      <td>0.000</td>\n",
       "      <td>0.0000</td>\n",
       "    </tr>\n",
       "    <tr>\n",
       "      <th>3</th>\n",
       "      <td>0.000</td>\n",
       "      <td>1.000</td>\n",
       "      <td>0.000</td>\n",
       "      <td>0.0000</td>\n",
       "    </tr>\n",
       "    <tr>\n",
       "      <th>4</th>\n",
       "      <td>0.189</td>\n",
       "      <td>0.811</td>\n",
       "      <td>0.000</td>\n",
       "      <td>-0.2732</td>\n",
       "    </tr>\n",
       "  </tbody>\n",
       "</table>\n",
       "</div>"
      ],
      "text/plain": [
       "   vader_neg  vader_neu  vader_pos  vader_compound\n",
       "0      0.229      0.654      0.118         -0.4019\n",
       "1      0.000      0.928      0.072          0.1027\n",
       "2      0.000      1.000      0.000          0.0000\n",
       "3      0.000      1.000      0.000          0.0000\n",
       "4      0.189      0.811      0.000         -0.2732"
      ]
     },
     "execution_count": 2,
     "metadata": {},
     "output_type": "execute_result"
    }
   ],
   "source": [
    "# Vader scores\n",
    "processed_scores_columns = pd.read_pickle(\"../../all_sentiment_vader.pkl\")\n",
    "processed_scores_columns.head()"
   ]
  },
  {
   "cell_type": "code",
   "execution_count": 120,
   "id": "41c9127c",
   "metadata": {},
   "outputs": [
    {
     "data": {
      "text/html": [
       "<div>\n",
       "<style scoped>\n",
       "    .dataframe tbody tr th:only-of-type {\n",
       "        vertical-align: middle;\n",
       "    }\n",
       "\n",
       "    .dataframe tbody tr th {\n",
       "        vertical-align: top;\n",
       "    }\n",
       "\n",
       "    .dataframe thead th {\n",
       "        text-align: right;\n",
       "    }\n",
       "</style>\n",
       "<table border=\"1\" class=\"dataframe\">\n",
       "  <thead>\n",
       "    <tr style=\"text-align: right;\">\n",
       "      <th></th>\n",
       "      <th>textblob_sentiment</th>\n",
       "      <th>textblob_objectivity</th>\n",
       "    </tr>\n",
       "  </thead>\n",
       "  <tbody>\n",
       "    <tr>\n",
       "      <th>0</th>\n",
       "      <td>-0.200000</td>\n",
       "      <td>0.300000</td>\n",
       "    </tr>\n",
       "    <tr>\n",
       "      <th>1</th>\n",
       "      <td>0.000000</td>\n",
       "      <td>0.500000</td>\n",
       "    </tr>\n",
       "    <tr>\n",
       "      <th>2</th>\n",
       "      <td>0.000000</td>\n",
       "      <td>0.000000</td>\n",
       "    </tr>\n",
       "    <tr>\n",
       "      <th>3</th>\n",
       "      <td>-0.155556</td>\n",
       "      <td>0.288889</td>\n",
       "    </tr>\n",
       "    <tr>\n",
       "      <th>4</th>\n",
       "      <td>0.000000</td>\n",
       "      <td>0.000000</td>\n",
       "    </tr>\n",
       "  </tbody>\n",
       "</table>\n",
       "</div>"
      ],
      "text/plain": [
       "   textblob_sentiment  textblob_objectivity\n",
       "0 -0.200000            0.300000            \n",
       "1  0.000000            0.500000            \n",
       "2  0.000000            0.000000            \n",
       "3 -0.155556            0.288889            \n",
       "4  0.000000            0.000000            "
      ]
     },
     "execution_count": 120,
     "metadata": {},
     "output_type": "execute_result"
    }
   ],
   "source": [
    "# text blob \n",
    "posts_file_path = os.path.join('..','..', \"textblob_cleaned_sentiment.pkl\")\n",
    "pick_op = open(posts_file_path, 'rb')\n",
    "textblob_df = pickle.load(pick_op)\n",
    "textblob_df.rename(columns = {'sentiment':'textblob_sentiment', 'objectivity':'textblob_objectivity'}, inplace = True)\n",
    "textblob_df.head()"
   ]
  },
  {
   "cell_type": "code",
   "execution_count": 121,
   "id": "84bd4ae9",
   "metadata": {},
   "outputs": [],
   "source": [
    "# data = pd.read_pickle(\"../../../sampled_processed_extant_posts.pkl\")\n",
    "data = pd.read_pickle(\"../../../all_clean_str_extant_posts.pkl\")"
   ]
  },
  {
   "cell_type": "code",
   "execution_count": 122,
   "id": "63be54ee",
   "metadata": {},
   "outputs": [
    {
     "data": {
      "text/html": [
       "<div>\n",
       "<style scoped>\n",
       "    .dataframe tbody tr th:only-of-type {\n",
       "        vertical-align: middle;\n",
       "    }\n",
       "\n",
       "    .dataframe tbody tr th {\n",
       "        vertical-align: top;\n",
       "    }\n",
       "\n",
       "    .dataframe thead th {\n",
       "        text-align: right;\n",
       "    }\n",
       "</style>\n",
       "<table border=\"1\" class=\"dataframe\">\n",
       "  <thead>\n",
       "    <tr style=\"text-align: right;\">\n",
       "      <th></th>\n",
       "      <th>orig_selftext</th>\n",
       "      <th>text_clean_space</th>\n",
       "      <th>text_clean_punc_lower</th>\n",
       "      <th>len_clean</th>\n",
       "    </tr>\n",
       "  </thead>\n",
       "  <tbody>\n",
       "    <tr>\n",
       "      <th>0</th>\n",
       "      <td>Another one of their smug, preachy ass headlines proved to be incorrect.</td>\n",
       "      <td>Another one of their smug, preachy ass headlines proved to be incorrect.</td>\n",
       "      <td>another one of their smug preachy ass headlines proved to be incorrect</td>\n",
       "      <td>70</td>\n",
       "    </tr>\n",
       "    <tr>\n",
       "      <th>1</th>\n",
       "      <td>enema has been pretending to be a rapper for years when the only real white rapper is Vanilla.  Vanilla Ice.</td>\n",
       "      <td>enema has been pretending to be a rapper for years when the only real white rapper is Vanilla. Vanilla Ice.</td>\n",
       "      <td>enema has been pretending to be a rapper for years when the only real white rapper is vanilla vanilla ice</td>\n",
       "      <td>105</td>\n",
       "    </tr>\n",
       "    <tr>\n",
       "      <th>2</th>\n",
       "      <td>That area from Abilene to border (I-20 to I-10 and across to El Paso) has border patrol presence.</td>\n",
       "      <td>That area from Abilene to border (I-20 to I-10 and across to El Paso) has border patrol presence.</td>\n",
       "      <td>that area from abilene to border i20 to i10 and across to el paso has border patrol presence</td>\n",
       "      <td>92</td>\n",
       "    </tr>\n",
       "    <tr>\n",
       "      <th>3</th>\n",
       "      <td>She's got the politician fist point down</td>\n",
       "      <td>She's got the politician fist point down</td>\n",
       "      <td>shes got the politician fist point down</td>\n",
       "      <td>39</td>\n",
       "    </tr>\n",
       "    <tr>\n",
       "      <th>4</th>\n",
       "      <td>Imagine getting paid to drop three words on a president's tweet?</td>\n",
       "      <td>Imagine getting paid to drop three words on a president's tweet?</td>\n",
       "      <td>imagine getting paid to drop three words on a presidents tweet</td>\n",
       "      <td>62</td>\n",
       "    </tr>\n",
       "  </tbody>\n",
       "</table>\n",
       "</div>"
      ],
      "text/plain": [
       "                                                                                                   orig_selftext                                                                                             text_clean_space                                                                                      text_clean_punc_lower  len_clean\n",
       "0  Another one of their smug, preachy ass headlines proved to be incorrect.                                       Another one of their smug, preachy ass headlines proved to be incorrect.                                     another one of their smug preachy ass headlines proved to be incorrect                                     70       \n",
       "1  enema has been pretending to be a rapper for years when the only real white rapper is Vanilla.  Vanilla Ice.   enema has been pretending to be a rapper for years when the only real white rapper is Vanilla. Vanilla Ice.  enema has been pretending to be a rapper for years when the only real white rapper is vanilla vanilla ice  105      \n",
       "2  That area from Abilene to border (I-20 to I-10 and across to El Paso) has border patrol presence.              That area from Abilene to border (I-20 to I-10 and across to El Paso) has border patrol presence.            that area from abilene to border i20 to i10 and across to el paso has border patrol presence               92       \n",
       "3  She's got the politician fist point down                                                                       She's got the politician fist point down                                                                     shes got the politician fist point down                                                                    39       \n",
       "4  Imagine getting paid to drop three words on a president's tweet?                                               Imagine getting paid to drop three words on a president's tweet?                                             imagine getting paid to drop three words on a presidents tweet                                             62       "
      ]
     },
     "execution_count": 122,
     "metadata": {},
     "output_type": "execute_result"
    }
   ],
   "source": [
    "data.head(5)"
   ]
  },
  {
   "cell_type": "code",
   "execution_count": 123,
   "id": "304b0250",
   "metadata": {},
   "outputs": [],
   "source": [
    "data = pd.concat([data, processed_scores_columns, textblob_df],\n",
    "                         axis='columns')"
   ]
  },
  {
   "cell_type": "code",
   "execution_count": 126,
   "id": "492413b1",
   "metadata": {},
   "outputs": [
    {
     "name": "stderr",
     "output_type": "stream",
     "text": [
      "<ipython-input-126-7a5c8c687ace>:3: FutureWarning: Passing a negative integer is deprecated in version 1.0 and will not be supported in future version. Instead, use None to not limit the column width.\n",
      "  pd.set_option('max_colwidth', -1)\n"
     ]
    },
    {
     "data": {
      "text/html": [
       "<div>\n",
       "<style scoped>\n",
       "    .dataframe tbody tr th:only-of-type {\n",
       "        vertical-align: middle;\n",
       "    }\n",
       "\n",
       "    .dataframe tbody tr th {\n",
       "        vertical-align: top;\n",
       "    }\n",
       "\n",
       "    .dataframe thead th {\n",
       "        text-align: right;\n",
       "    }\n",
       "</style>\n",
       "<table border=\"1\" class=\"dataframe\">\n",
       "  <thead>\n",
       "    <tr style=\"text-align: right;\">\n",
       "      <th></th>\n",
       "      <th>text_clean_space</th>\n",
       "      <th>vader_neg</th>\n",
       "      <th>vader_neu</th>\n",
       "      <th>vader_pos</th>\n",
       "      <th>vader_compound</th>\n",
       "      <th>textblob_sentiment</th>\n",
       "      <th>textblob_objectivity</th>\n",
       "    </tr>\n",
       "  </thead>\n",
       "  <tbody>\n",
       "    <tr>\n",
       "      <th>10015585</th>\n",
       "      <td>And because he wants to publicly reveal that theyve all been cheating off each other the whole time, fucking over everyone else in the process.</td>\n",
       "      <td>0.130</td>\n",
       "      <td>0.870</td>\n",
       "      <td>0.000</td>\n",
       "      <td>-0.5574</td>\n",
       "      <td>-0.065000</td>\n",
       "      <td>0.348333</td>\n",
       "    </tr>\n",
       "    <tr>\n",
       "      <th>10015578</th>\n",
       "      <td>I've said for over a year gram is a snake and bad for America. He's the one that pushed for red flag laws.</td>\n",
       "      <td>0.149</td>\n",
       "      <td>0.851</td>\n",
       "      <td>0.000</td>\n",
       "      <td>-0.5423</td>\n",
       "      <td>-0.350000</td>\n",
       "      <td>0.333333</td>\n",
       "    </tr>\n",
       "    <tr>\n",
       "      <th>10015579</th>\n",
       "      <td>Just when we thought the dirty Sanchez was an internet myth</td>\n",
       "      <td>0.225</td>\n",
       "      <td>0.775</td>\n",
       "      <td>0.000</td>\n",
       "      <td>-0.4404</td>\n",
       "      <td>-0.600000</td>\n",
       "      <td>0.800000</td>\n",
       "    </tr>\n",
       "    <tr>\n",
       "      <th>10015577</th>\n",
       "      <td>But But But... MUH QUID PRO QUO!!!! REEEEEEEEEEEEEEEEEEE</td>\n",
       "      <td>0.000</td>\n",
       "      <td>1.000</td>\n",
       "      <td>0.000</td>\n",
       "      <td>0.0000</td>\n",
       "      <td>0.000000</td>\n",
       "      <td>0.000000</td>\n",
       "    </tr>\n",
       "    <tr>\n",
       "      <th>10015584</th>\n",
       "      <td>I also think historically speaking the impeachment will be a stain on the Democrats record, not the President's.</td>\n",
       "      <td>0.000</td>\n",
       "      <td>1.000</td>\n",
       "      <td>0.000</td>\n",
       "      <td>0.0000</td>\n",
       "      <td>0.000000</td>\n",
       "      <td>0.000000</td>\n",
       "    </tr>\n",
       "    <tr>\n",
       "      <th>10015582</th>\n",
       "      <td>Yawn. Hope it fails.</td>\n",
       "      <td>0.364</td>\n",
       "      <td>0.260</td>\n",
       "      <td>0.377</td>\n",
       "      <td>0.0258</td>\n",
       "      <td>-0.500000</td>\n",
       "      <td>0.300000</td>\n",
       "    </tr>\n",
       "    <tr>\n",
       "      <th>10015580</th>\n",
       "      <td>[That sounds like something Mao Zedong would say!](https://en.wikipedia.org/wiki/Political_power_grows_out_of_the_barrel_of_a_gun)</td>\n",
       "      <td>0.000</td>\n",
       "      <td>0.715</td>\n",
       "      <td>0.285</td>\n",
       "      <td>0.4199</td>\n",
       "      <td>0.000000</td>\n",
       "      <td>0.000000</td>\n",
       "    </tr>\n",
       "    <tr>\n",
       "      <th>10015583</th>\n",
       "      <td>EVERY single vote counts. We need to bury their \"popular vote\" narrative six feet deep.</td>\n",
       "      <td>0.000</td>\n",
       "      <td>0.833</td>\n",
       "      <td>0.167</td>\n",
       "      <td>0.4215</td>\n",
       "      <td>0.176190</td>\n",
       "      <td>0.504762</td>\n",
       "    </tr>\n",
       "    <tr>\n",
       "      <th>10015581</th>\n",
       "      <td>Our coat bot is back, yay!</td>\n",
       "      <td>0.000</td>\n",
       "      <td>0.575</td>\n",
       "      <td>0.425</td>\n",
       "      <td>0.5707</td>\n",
       "      <td>0.000000</td>\n",
       "      <td>0.000000</td>\n",
       "    </tr>\n",
       "    <tr>\n",
       "      <th>10015576</th>\n",
       "      <td>Rule2 Never go outside the expertise of your people. It results in confusion, fear and retreat. Feeling secure adds to the backbone of anyone. Rule6 A good tactic is one your people enjoy. **Theyll keep doing it without urging** and come back to do more. Theyre doing their thing, and will even suggest better ones. Rule8 Keep the pressure on. Never let up. **Keep trying new things to keep the opposition off balance**. As the opposition masters one approach, hit them from the flank with something new. Rule10 The major premise for tactics is the development of operations that will **maintain a constant pressure upon the opposition**. It is this unceasing pressure that results in the reactions from the opposition that are essential for the success of the campaign.</td>\n",
       "      <td>0.083</td>\n",
       "      <td>0.791</td>\n",
       "      <td>0.127</td>\n",
       "      <td>0.7506</td>\n",
       "      <td>0.241171</td>\n",
       "      <td>0.368648</td>\n",
       "    </tr>\n",
       "  </tbody>\n",
       "</table>\n",
       "</div>"
      ],
      "text/plain": [
       "                                                                                                                                                                                                                                                                                                                                                                                                                                                                                                                                                                                                                                                                                                                                                                                            text_clean_space  vader_neg  vader_neu  vader_pos  vader_compound  textblob_sentiment  textblob_objectivity\n",
       "10015585  And because he wants to publicly reveal that theyve all been cheating off each other the whole time, fucking over everyone else in the process.                                                                                                                                                                                                                                                                                                                                                                                                                                                                                                                                                                                                                                                     0.130      0.870      0.000     -0.5574         -0.065000            0.348333            \n",
       "10015578  I've said for over a year gram is a snake and bad for America. He's the one that pushed for red flag laws.                                                                                                                                                                                                                                                                                                                                                                                                                                                                                                                                                                                                                                                                                          0.149      0.851      0.000     -0.5423         -0.350000            0.333333            \n",
       "10015579  Just when we thought the dirty Sanchez was an internet myth                                                                                                                                                                                                                                                                                                                                                                                                                                                                                                                                                                                                                                                                                                                                         0.225      0.775      0.000     -0.4404         -0.600000            0.800000            \n",
       "10015577  But But But... MUH QUID PRO QUO!!!! REEEEEEEEEEEEEEEEEEE                                                                                                                                                                                                                                                                                                                                                                                                                                                                                                                                                                                                                                                                                                                                            0.000      1.000      0.000      0.0000          0.000000            0.000000            \n",
       "10015584  I also think historically speaking the impeachment will be a stain on the Democrats record, not the President's.                                                                                                                                                                                                                                                                                                                                                                                                                                                                                                                                                                                                                                                                                    0.000      1.000      0.000      0.0000          0.000000            0.000000            \n",
       "10015582  Yawn. Hope it fails.                                                                                                                                                                                                                                                                                                                                                                                                                                                                                                                                                                                                                                                                                                                                                                                0.364      0.260      0.377      0.0258         -0.500000            0.300000            \n",
       "10015580  [That sounds like something Mao Zedong would say!](https://en.wikipedia.org/wiki/Political_power_grows_out_of_the_barrel_of_a_gun)                                                                                                                                                                                                                                                                                                                                                                                                                                                                                                                                                                                                                                                                  0.000      0.715      0.285      0.4199          0.000000            0.000000            \n",
       "10015583  EVERY single vote counts. We need to bury their \"popular vote\" narrative six feet deep.                                                                                                                                                                                                                                                                                                                                                                                                                                                                                                                                                                                                                                                                                                             0.000      0.833      0.167      0.4215          0.176190            0.504762            \n",
       "10015581  Our coat bot is back, yay!                                                                                                                                                                                                                                                                                                                                                                                                                                                                                                                                                                                                                                                                                                                                                                          0.000      0.575      0.425      0.5707          0.000000            0.000000            \n",
       "10015576  Rule2 Never go outside the expertise of your people. It results in confusion, fear and retreat. Feeling secure adds to the backbone of anyone. Rule6 A good tactic is one your people enjoy. **Theyll keep doing it without urging** and come back to do more. Theyre doing their thing, and will even suggest better ones. Rule8 Keep the pressure on. Never let up. **Keep trying new things to keep the opposition off balance**. As the opposition masters one approach, hit them from the flank with something new. Rule10 The major premise for tactics is the development of operations that will **maintain a constant pressure upon the opposition**. It is this unceasing pressure that results in the reactions from the opposition that are essential for the success of the campaign.  0.083      0.791      0.127      0.7506          0.241171            0.368648            "
      ]
     },
     "execution_count": 126,
     "metadata": {},
     "output_type": "execute_result"
    }
   ],
   "source": [
    "pd.set_option('display.max_columns', None)  \n",
    "pd.set_option('display.expand_frame_repr', False)\n",
    "pd.set_option('max_colwidth', -1)\n",
    "data[['text_clean_space','vader_neg', 'vader_neu', 'vader_pos', 'vader_compound',\n",
    "      'textblob_sentiment','textblob_objectivity']].tail(10).sort_values(\n",
    "    'vader_compound')"
   ]
  },
  {
   "cell_type": "code",
   "execution_count": 21,
   "id": "bca20884",
   "metadata": {},
   "outputs": [
    {
     "data": {
      "text/plain": [
       "Text(0.5, 1.0, 'Histogram of Vader Compound Score')"
      ]
     },
     "execution_count": 21,
     "metadata": {},
     "output_type": "execute_result"
    },
    {
     "data": {
      "image/png": "[encoded data removed]",
      "text/plain": [
       "<Figure size 432x288 with 1 Axes>"
      ]
     },
     "metadata": {
      "needs_background": "light"
     },
     "output_type": "display_data"
    }
   ],
   "source": [
    "data.hist(column=\"vader_compound\")\n",
    "plt.xlabel(\"Score\", size=15)\n",
    "plt.title(\"Histogram of Vader Compound Score\", size=15)"
   ]
  },
  {
   "cell_type": "code",
   "execution_count": 127,
   "id": "a762e03e",
   "metadata": {},
   "outputs": [
    {
     "data": {
      "text/plain": [
       "Text(0.5, 1.0, 'Histogram of Textblob Sentiment')"
      ]
     },
     "execution_count": 127,
     "metadata": {},
     "output_type": "execute_result"
    },
    {
     "data": {
      "image/png": "[encoded data removed]",
      "text/plain": [
       "<Figure size 432x288 with 1 Axes>"
      ]
     },
     "metadata": {
      "needs_background": "light"
     },
     "output_type": "display_data"
    }
   ],
   "source": [
    "data.hist(column=\"textblob_sentiment\")\n",
    "plt.xlabel(\"Score\", size=15)\n",
    "plt.title(\"Histogram of Textblob Sentiment\", size=15)"
   ]
  },
  {
   "cell_type": "code",
   "execution_count": 25,
   "id": "f53ac528",
   "metadata": {},
   "outputs": [],
   "source": [
    "posts_pkl_path = os.path.join('..', '..', '..', \"combined_bigquery_processed.pkl\")\n",
    "posts_df = pd.read_pickle(posts_pkl_path)"
   ]
  },
  {
   "cell_type": "code",
   "execution_count": 128,
   "id": "51754420",
   "metadata": {},
   "outputs": [],
   "source": [
    "data = data.merge(posts_df, left_index = True, right_index = True, how = 'left')"
   ]
  },
  {
   "cell_type": "code",
   "execution_count": 129,
   "id": "af34ed52",
   "metadata": {},
   "outputs": [],
   "source": [
    "data['date'] = pd.to_datetime(data['created_date'], format='%Y-%m-%d')\n",
    "data['date'] = data['date'].dt.date"
   ]
  },
  {
   "cell_type": "code",
   "execution_count": 130,
   "id": "638cfc7a",
   "metadata": {},
   "outputs": [],
   "source": [
    "def plot_seven_day_moving_avg(df, col, title, y_axis, counts=False):\n",
    "    \n",
    "    if counts:\n",
    "        compound_date = df.groupby(['date'])[col].size().reset_index()\n",
    "        compound_date.set_index('date', inplace=True)\n",
    "    else:\n",
    "        compound_date = df.groupby(['date'])[col].mean().reset_index()\n",
    "        compound_date.set_index('date', inplace=True)\n",
    "    \n",
    "    MOVING_AVG_WINDOW = 7\n",
    "    compound_date['7_day_avg'] = (compound_date[col].\n",
    "            rolling(window=MOVING_AVG_WINDOW).mean())\n",
    "    \n",
    "    plt.figure(figsize=(20,6))\n",
    "    ax = compound_date['7_day_avg'].plot(linewidth=0.5)\n",
    "    plt.ylabel(y_axis, size=15)\n",
    "    plt.xlabel(\"Date\", size=15)\n",
    "    plt.title(title, size=18)\n",
    "    # Major ticks every month.\n",
    "    fmt_month = mdates.MonthLocator()\n",
    "    ax.xaxis.set_major_locator(fmt_month)\n",
    "\n",
    "    plt.axvline(dt.datetime(2019, 6, 26))"
   ]
  },
  {
   "cell_type": "code",
   "execution_count": 131,
   "id": "6c93d419",
   "metadata": {},
   "outputs": [
    {
     "data": {
      "image/png": "[encoded data removed]",
      "text/plain": [
       "<Figure size 1440x432 with 1 Axes>"
      ]
     },
     "metadata": {
      "needs_background": "light"
     },
     "output_type": "display_data"
    }
   ],
   "source": [
    "plot_seven_day_moving_avg(data, 'vader_compound', 'Avg compound sentiment (7-day)', 'Compound Sentiment')"
   ]
  },
  {
   "cell_type": "code",
   "execution_count": 132,
   "id": "015242a1",
   "metadata": {},
   "outputs": [
    {
     "data": {
      "image/png": "[encoded data removed]",
      "text/plain": [
       "<Figure size 1440x432 with 1 Axes>"
      ]
     },
     "metadata": {
      "needs_background": "light"
     },
     "output_type": "display_data"
    }
   ],
   "source": [
    "plot_seven_day_moving_avg(data, 'vader_compound', 'Post per day (7-day)', 'Posts', True)"
   ]
  },
  {
   "cell_type": "markdown",
   "id": "75aeea74",
   "metadata": {},
   "source": [
    "# Evaluation"
   ]
  },
  {
   "cell_type": "code",
   "execution_count": 42,
   "id": "7c8fbb30",
   "metadata": {},
   "outputs": [],
   "source": [
    "def create_count_data(df, group):\n",
    "    \"\"\"\n",
    "    create dataframe of counts based on groupby\n",
    "    :param df: pandas dataframe\n",
    "    :param group: name of column to groupby\n",
    "    :return: dataframe of counts for each group\n",
    "    \"\"\"\n",
    "    counts = df.groupby(group).size().to_frame('count')\n",
    "    counts.reset_index(inplace=True)\n",
    "    return counts\n",
    "\n",
    "def create_barplot(count_data, grouped_by_col, count_col, title):\n",
    "    \"\"\"\n",
    "    create bar plot based on grouped_by_col\n",
    "    \"\"\"\n",
    "    plt.figure(figsize=(20,6))\n",
    "    p = sns.barplot(x=grouped_by_col, y=count_col,\n",
    "                data=count_data)\n",
    "    p.set_xticklabels(p.get_xticklabels(), rotation=40, ha=\"right\")\n",
    "    plt.ylabel(\"Count\", size=15)\n",
    "    plt.xlabel(grouped_by_col, size=15)\n",
    "    plt.title(title, size=18)\n",
    "    plt.show()"
   ]
  },
  {
   "cell_type": "code",
   "execution_count": 51,
   "id": "3b4de14e",
   "metadata": {},
   "outputs": [
    {
     "data": {
      "text/html": [
       "<div>\n",
       "<style scoped>\n",
       "    .dataframe tbody tr th:only-of-type {\n",
       "        vertical-align: middle;\n",
       "    }\n",
       "\n",
       "    .dataframe tbody tr th {\n",
       "        vertical-align: top;\n",
       "    }\n",
       "\n",
       "    .dataframe thead th {\n",
       "        text-align: right;\n",
       "    }\n",
       "</style>\n",
       "<table border=\"1\" class=\"dataframe\">\n",
       "  <thead>\n",
       "    <tr style=\"text-align: right;\">\n",
       "      <th></th>\n",
       "      <th>label</th>\n",
       "    </tr>\n",
       "  </thead>\n",
       "  <tbody>\n",
       "    <tr>\n",
       "      <th>3605270</th>\n",
       "      <td>neutral</td>\n",
       "    </tr>\n",
       "    <tr>\n",
       "      <th>3844737</th>\n",
       "      <td>neutral</td>\n",
       "    </tr>\n",
       "    <tr>\n",
       "      <th>4113392</th>\n",
       "      <td>negative</td>\n",
       "    </tr>\n",
       "    <tr>\n",
       "      <th>3035067</th>\n",
       "      <td>neutral</td>\n",
       "    </tr>\n",
       "    <tr>\n",
       "      <th>3038117</th>\n",
       "      <td>negative</td>\n",
       "    </tr>\n",
       "  </tbody>\n",
       "</table>\n",
       "</div>"
      ],
      "text/plain": [
       "            label\n",
       "3605270  neutral \n",
       "3844737  neutral \n",
       "4113392  negative\n",
       "3035067  neutral \n",
       "3038117  negative"
      ]
     },
     "execution_count": 51,
     "metadata": {},
     "output_type": "execute_result"
    }
   ],
   "source": [
    "labels_1 = pd.read_csv(\"set_1.csv\", index_col=0)\n",
    "labels_1.head()\n",
    "labels_1 = labels_1[[\"label\"]]\n",
    "labels_1.head()"
   ]
  },
  {
   "cell_type": "code",
   "execution_count": 52,
   "id": "f29f5186",
   "metadata": {},
   "outputs": [
    {
     "name": "stdout",
     "output_type": "stream",
     "text": [
      "      label  count\n",
      "0  negative  199  \n",
      "1  neutral   241  \n",
      "2  positive  51   \n"
     ]
    },
    {
     "data": {
      "image/png": "[encoded data removed]",
      "text/plain": [
       "<Figure size 1440x432 with 1 Axes>"
      ]
     },
     "metadata": {
      "needs_background": "light"
     },
     "output_type": "display_data"
    }
   ],
   "source": [
    "label_1_counts = create_count_data(labels_1, \"label\")\n",
    "print(label_1_counts)\n",
    "create_barplot(label_1_counts, \"label\", \"count\", \"Label Counts 1\")"
   ]
  },
  {
   "cell_type": "code",
   "execution_count": 66,
   "id": "e1cace54",
   "metadata": {},
   "outputs": [
    {
     "data": {
      "text/html": [
       "<div>\n",
       "<style scoped>\n",
       "    .dataframe tbody tr th:only-of-type {\n",
       "        vertical-align: middle;\n",
       "    }\n",
       "\n",
       "    .dataframe tbody tr th {\n",
       "        vertical-align: top;\n",
       "    }\n",
       "\n",
       "    .dataframe thead th {\n",
       "        text-align: right;\n",
       "    }\n",
       "</style>\n",
       "<table border=\"1\" class=\"dataframe\">\n",
       "  <thead>\n",
       "    <tr style=\"text-align: right;\">\n",
       "      <th></th>\n",
       "      <th>label</th>\n",
       "    </tr>\n",
       "  </thead>\n",
       "  <tbody>\n",
       "    <tr>\n",
       "      <th>2919497</th>\n",
       "      <td>0</td>\n",
       "    </tr>\n",
       "    <tr>\n",
       "      <th>3681067</th>\n",
       "      <td>1</td>\n",
       "    </tr>\n",
       "    <tr>\n",
       "      <th>2883915</th>\n",
       "      <td>-1</td>\n",
       "    </tr>\n",
       "    <tr>\n",
       "      <th>2579220</th>\n",
       "      <td>-1</td>\n",
       "    </tr>\n",
       "    <tr>\n",
       "      <th>3309177</th>\n",
       "      <td>0</td>\n",
       "    </tr>\n",
       "  </tbody>\n",
       "</table>\n",
       "</div>"
      ],
      "text/plain": [
       "         label\n",
       "2919497  0    \n",
       "3681067  1    \n",
       "2883915 -1    \n",
       "2579220 -1    \n",
       "3309177  0    "
      ]
     },
     "execution_count": 66,
     "metadata": {},
     "output_type": "execute_result"
    }
   ],
   "source": [
    "labels_2 = pd.read_csv(\"set_3.csv\", index_col=0)\n",
    "labels_2.head()\n",
    "labels_2 = labels_2[[\"label\"]]\n",
    "labels_2.head()"
   ]
  },
  {
   "cell_type": "code",
   "execution_count": 67,
   "id": "409ab118",
   "metadata": {},
   "outputs": [
    {
     "name": "stdout",
     "output_type": "stream",
     "text": [
      "   label  count\n",
      "0 -1      128  \n",
      "1  0      336  \n",
      "2  1      36   \n"
     ]
    },
    {
     "data": {
      "image/png": "[encoded data removed]",
      "text/plain": [
       "<Figure size 1440x432 with 1 Axes>"
      ]
     },
     "metadata": {
      "needs_background": "light"
     },
     "output_type": "display_data"
    }
   ],
   "source": [
    "label_2_counts = create_count_data(labels_2, \"label\")\n",
    "print(label_2_counts)\n",
    "create_barplot(label_2_counts, \"label\", \"count\", \"Label Counts 2\")"
   ]
  },
  {
   "cell_type": "code",
   "execution_count": 68,
   "id": "2b13dcfb",
   "metadata": {},
   "outputs": [],
   "source": [
    "labels_2[\"label\"][labels_2[\"label\"]==-1] = \"negative\"\n",
    "labels_2[\"label\"][labels_2[\"label\"]==0] = \"neutral\"\n",
    "labels_2[\"label\"][labels_2[\"label\"]==1] = \"positive\""
   ]
  },
  {
   "cell_type": "code",
   "execution_count": 69,
   "id": "e45e6e79",
   "metadata": {},
   "outputs": [
    {
     "name": "stdout",
     "output_type": "stream",
     "text": [
      "      label  count\n",
      "0  negative  128  \n",
      "1  neutral   336  \n",
      "2  positive  36   \n"
     ]
    },
    {
     "data": {
      "image/png": "[encoded data removed]",
      "text/plain": [
       "<Figure size 1440x432 with 1 Axes>"
      ]
     },
     "metadata": {
      "needs_background": "light"
     },
     "output_type": "display_data"
    }
   ],
   "source": [
    "label_2_counts = create_count_data(labels_2, \"label\")\n",
    "print(label_2_counts)\n",
    "create_barplot(label_2_counts, \"label\", \"count\", \"Label Counts 2\")"
   ]
  },
  {
   "cell_type": "code",
   "execution_count": 71,
   "id": "80b228be",
   "metadata": {},
   "outputs": [
    {
     "name": "stdout",
     "output_type": "stream",
     "text": [
      "len labels 1: 491\n",
      "len labels 2: 500\n"
     ]
    }
   ],
   "source": [
    "print(f\"len labels 1: {len(labels_1)}\")\n",
    "print(f\"len labels 2: {len(labels_2)}\")"
   ]
  },
  {
   "cell_type": "code",
   "execution_count": 76,
   "id": "923a0493",
   "metadata": {},
   "outputs": [
    {
     "name": "stdout",
     "output_type": "stream",
     "text": [
      "len label combined: 991\n",
      "len label index: 991\n"
     ]
    }
   ],
   "source": [
    "labels = labels_1\n",
    "labels = labels.append(labels_2)\n",
    "print(f\"len label combined: {len(labels)}\")\n",
    "print(f\"len label index: {labels.index.nunique()}\")"
   ]
  },
  {
   "cell_type": "code",
   "execution_count": 133,
   "id": "5f5af6ff",
   "metadata": {},
   "outputs": [
    {
     "name": "stdout",
     "output_type": "stream",
     "text": [
      "(991, 34)\n"
     ]
    },
    {
     "data": {
      "text/html": [
       "<div>\n",
       "<style scoped>\n",
       "    .dataframe tbody tr th:only-of-type {\n",
       "        vertical-align: middle;\n",
       "    }\n",
       "\n",
       "    .dataframe tbody tr th {\n",
       "        vertical-align: top;\n",
       "    }\n",
       "\n",
       "    .dataframe thead th {\n",
       "        text-align: right;\n",
       "    }\n",
       "</style>\n",
       "<table border=\"1\" class=\"dataframe\">\n",
       "  <thead>\n",
       "    <tr style=\"text-align: right;\">\n",
       "      <th></th>\n",
       "      <th>label</th>\n",
       "      <th>orig_selftext</th>\n",
       "      <th>text_clean_space</th>\n",
       "      <th>text_clean_punc_lower</th>\n",
       "      <th>len_clean</th>\n",
       "      <th>vader_neg</th>\n",
       "      <th>vader_neu</th>\n",
       "      <th>vader_pos</th>\n",
       "      <th>vader_compound</th>\n",
       "      <th>textblob_sentiment</th>\n",
       "      <th>textblob_objectivity</th>\n",
       "      <th>selftext</th>\n",
       "      <th>score_hidden</th>\n",
       "      <th>archived</th>\n",
       "      <th>name</th>\n",
       "      <th>author</th>\n",
       "      <th>author_flair_text</th>\n",
       "      <th>downs</th>\n",
       "      <th>created_utc</th>\n",
       "      <th>subreddit_id</th>\n",
       "      <th>link_id</th>\n",
       "      <th>parent_id</th>\n",
       "      <th>score</th>\n",
       "      <th>retrieved_on</th>\n",
       "      <th>controversiality</th>\n",
       "      <th>gilded</th>\n",
       "      <th>id</th>\n",
       "      <th>subreddit</th>\n",
       "      <th>ups</th>\n",
       "      <th>distinguished</th>\n",
       "      <th>author_flair_css_class</th>\n",
       "      <th>created_date</th>\n",
       "      <th>post_type</th>\n",
       "      <th>date</th>\n",
       "    </tr>\n",
       "  </thead>\n",
       "  <tbody>\n",
       "    <tr>\n",
       "      <th>3605270</th>\n",
       "      <td>neutral</td>\n",
       "      <td>So much word salad!</td>\n",
       "      <td>So much word salad!</td>\n",
       "      <td>so much word salad</td>\n",
       "      <td>18</td>\n",
       "      <td>0.000</td>\n",
       "      <td>1.000</td>\n",
       "      <td>0.000</td>\n",
       "      <td>0.0000</td>\n",
       "      <td>0.200000</td>\n",
       "      <td>0.200000</td>\n",
       "      <td>So much word salad!</td>\n",
       "      <td>NaN</td>\n",
       "      <td>NaN</td>\n",
       "      <td>NaN</td>\n",
       "      <td>majorelle_blue</td>\n",
       "      <td>NaN</td>\n",
       "      <td>NaN</td>\n",
       "      <td>1561687965</td>\n",
       "      <td>t5_38unr</td>\n",
       "      <td>t3_c6djfn</td>\n",
       "      <td>t3_c6djfn</td>\n",
       "      <td>2</td>\n",
       "      <td>1571037655</td>\n",
       "      <td>0</td>\n",
       "      <td>0</td>\n",
       "      <td>es84xw0</td>\n",
       "      <td>The_Donald</td>\n",
       "      <td>NaN</td>\n",
       "      <td>NaN</td>\n",
       "      <td>NaN</td>\n",
       "      <td>2019-06-27</td>\n",
       "      <td>extant</td>\n",
       "      <td>2019-06-27</td>\n",
       "    </tr>\n",
       "    <tr>\n",
       "      <th>3844737</th>\n",
       "      <td>neutral</td>\n",
       "      <td>It's pronounced Milly - walk - ayyyy.</td>\n",
       "      <td>It's pronounced Milly - walk - ayyyy.</td>\n",
       "      <td>its pronounced milly  walk  ayyyy</td>\n",
       "      <td>33</td>\n",
       "      <td>0.000</td>\n",
       "      <td>1.000</td>\n",
       "      <td>0.000</td>\n",
       "      <td>0.0000</td>\n",
       "      <td>0.000000</td>\n",
       "      <td>0.000000</td>\n",
       "      <td>It's pronounced Milly - walk - ayyyy.</td>\n",
       "      <td>NaN</td>\n",
       "      <td>NaN</td>\n",
       "      <td>NaN</td>\n",
       "      <td>Badgermilk15</td>\n",
       "      <td>NaN</td>\n",
       "      <td>NaN</td>\n",
       "      <td>1561462608</td>\n",
       "      <td>t5_38unr</td>\n",
       "      <td>t3_c4vyhk</td>\n",
       "      <td>t1_eryud5t</td>\n",
       "      <td>1</td>\n",
       "      <td>1570896466</td>\n",
       "      <td>0</td>\n",
       "      <td>0</td>\n",
       "      <td>es01sy9</td>\n",
       "      <td>The_Donald</td>\n",
       "      <td>NaN</td>\n",
       "      <td>NaN</td>\n",
       "      <td>NaN</td>\n",
       "      <td>2019-06-25</td>\n",
       "      <td>extant</td>\n",
       "      <td>2019-06-25</td>\n",
       "    </tr>\n",
       "    <tr>\n",
       "      <th>4113392</th>\n",
       "      <td>negative</td>\n",
       "      <td>#There are two kinds of people:\\n\\n**Criminals, and non-criminals**\\n\\nDemocrats support criminals. Many democrats themselves are criminals (looking at you Hillary). democrats want to have more crime, or to even \"legalize\" longstanding criminal acts. democrats want convicted felons voting. Democrats want more criminals coming into our country, and support criminal entry methods.\\n\\nIf you ask non-criminals about criminals they will say we should \"lock them up\". They think crime should be punished, and laws upheld.\\n\\nThat is pretty much the foundation of the political divide in the country right now.</td>\n",
       "      <td>#There are two kinds of people: **Criminals, and non-criminals** Democrats support criminals. Many democrats themselves are criminals (looking at you Hillary). democrats want to have more crime, or to even \"legalize\" longstanding criminal acts. democrats want convicted felons voting. Democrats want more criminals coming into our country, and support criminal entry methods. If you ask non-criminals about criminals they will say we should \"lock them up\". They think crime should be punished, and laws upheld. That is pretty much the foundation of the political divide in the country right now.</td>\n",
       "      <td>there are two kinds of people criminals and noncriminals democrats support criminals many democrats themselves are criminals looking at you hillary democrats want to have more crime or to even legalize longstanding criminal acts democrats want convicted felons voting democrats want more criminals coming into our country and support criminal entry methods if you ask noncriminals about criminals they will say we should lock them up they think crime should be punished and laws upheld that is pretty much the foundation of the political divide in the country right now</td>\n",
       "      <td>569</td>\n",
       "      <td>0.269</td>\n",
       "      <td>0.627</td>\n",
       "      <td>0.104</td>\n",
       "      <td>-0.9741</td>\n",
       "      <td>0.159524</td>\n",
       "      <td>0.492857</td>\n",
       "      <td>#There are two kinds of people:\\n\\n**Criminals, and non-criminals**\\n\\nDemocrats support criminals. Many democrats themselves are criminals (looking at you Hillary). democrats want to have more crime, or to even \"legalize\" longstanding criminal acts. democrats want convicted felons voting. Democrats want more criminals coming into our country, and support criminal entry methods.\\n\\nIf you ask non-criminals about criminals they will say we should \"lock them up\". They think crime should be punished, and laws upheld.\\n\\nThat is pretty much the foundation of the political divide in the country right now.</td>\n",
       "      <td>NaN</td>\n",
       "      <td>NaN</td>\n",
       "      <td>NaN</td>\n",
       "      <td>Bulldog65</td>\n",
       "      <td>1776</td>\n",
       "      <td>NaN</td>\n",
       "      <td>1560527139</td>\n",
       "      <td>t5_38unr</td>\n",
       "      <td>t3_c0kjo4</td>\n",
       "      <td>t3_c0kjo4</td>\n",
       "      <td>12</td>\n",
       "      <td>1569900812</td>\n",
       "      <td>0</td>\n",
       "      <td>0</td>\n",
       "      <td>er5j7ce</td>\n",
       "      <td>The_Donald</td>\n",
       "      <td>NaN</td>\n",
       "      <td>NaN</td>\n",
       "      <td>MURICA</td>\n",
       "      <td>2019-06-14</td>\n",
       "      <td>extant</td>\n",
       "      <td>2019-06-14</td>\n",
       "    </tr>\n",
       "    <tr>\n",
       "      <th>3035067</th>\n",
       "      <td>neutral</td>\n",
       "      <td>She really is. ����</td>\n",
       "      <td>She really is.</td>\n",
       "      <td>she really is</td>\n",
       "      <td>14</td>\n",
       "      <td>0.000</td>\n",
       "      <td>1.000</td>\n",
       "      <td>0.000</td>\n",
       "      <td>0.0000</td>\n",
       "      <td>0.200000</td>\n",
       "      <td>0.200000</td>\n",
       "      <td>She really is. ����</td>\n",
       "      <td>NaN</td>\n",
       "      <td>NaN</td>\n",
       "      <td>NaN</td>\n",
       "      <td>InventorOfBacon</td>\n",
       "      <td>NaN</td>\n",
       "      <td>NaN</td>\n",
       "      <td>1563107088</td>\n",
       "      <td>t5_38unr</td>\n",
       "      <td>t3_ccyvg7</td>\n",
       "      <td>t1_etqixjw</td>\n",
       "      <td>6</td>\n",
       "      <td>1571987193</td>\n",
       "      <td>0</td>\n",
       "      <td>0</td>\n",
       "      <td>etqyjmz</td>\n",
       "      <td>The_Donald</td>\n",
       "      <td>NaN</td>\n",
       "      <td>NaN</td>\n",
       "      <td>NaN</td>\n",
       "      <td>2019-07-14</td>\n",
       "      <td>extant</td>\n",
       "      <td>2019-07-14</td>\n",
       "    </tr>\n",
       "    <tr>\n",
       "      <th>3038117</th>\n",
       "      <td>negative</td>\n",
       "      <td>I know what you mean, but it is not up to the bank to \"increase the wages\".  The wages will increase automatically if the system is operating in a true free market economy.  It has been well established for centuries.  If you game the system like the elites/bankers/communist on the upper side and the poor/free loading on the other side then this is what you get.</td>\n",
       "      <td>I know what you mean, but it is not up to the bank to \"increase the wages\". The wages will increase automatically if the system is operating in a true free market economy. It has been well established for centuries. If you game the system like the elites/bankers/communist on the upper side and the poor/free loading on the other side then this is what you get.</td>\n",
       "      <td>i know what you mean but it is not up to the bank to increase the wages the wages will increase automatically if the system is operating in a true free market economy it has been well established for centuries if you game the system like the elitesbankerscommunist on the upper side and the poorfree loading on the other side then this is what you get</td>\n",
       "      <td>351</td>\n",
       "      <td>0.000</td>\n",
       "      <td>0.744</td>\n",
       "      <td>0.256</td>\n",
       "      <td>0.9636</td>\n",
       "      <td>-0.014583</td>\n",
       "      <td>0.485417</td>\n",
       "      <td>I know what you mean, but it is not up to the bank to \"increase the wages\".  The wages will increase automatically if the system is operating in a true free market economy.  It has been well established for centuries.  If you game the system like the elites/bankers/communist on the upper side and the poor/free loading on the other side then this is what you get.</td>\n",
       "      <td>NaN</td>\n",
       "      <td>NaN</td>\n",
       "      <td>NaN</td>\n",
       "      <td>maleitch</td>\n",
       "      <td>NaN</td>\n",
       "      <td>NaN</td>\n",
       "      <td>1564595786</td>\n",
       "      <td>t5_38unr</td>\n",
       "      <td>t3_ckb1kj</td>\n",
       "      <td>t1_evl97lq</td>\n",
       "      <td>54</td>\n",
       "      <td>1573344833</td>\n",
       "      <td>0</td>\n",
       "      <td>0</td>\n",
       "      <td>evlkhbb</td>\n",
       "      <td>The_Donald</td>\n",
       "      <td>NaN</td>\n",
       "      <td>NaN</td>\n",
       "      <td>NaN</td>\n",
       "      <td>2019-07-31</td>\n",
       "      <td>extant</td>\n",
       "      <td>2019-07-31</td>\n",
       "    </tr>\n",
       "  </tbody>\n",
       "</table>\n",
       "</div>"
      ],
      "text/plain": [
       "            label                                                                                                                                                                                                                                                                                                                                                                                                                                                                                                                                                                                                                    orig_selftext                                                                                                                                                                                                                                                                                                                                                                                                                                                                                                                                                                                                     text_clean_space                                                                                                                                                                                                                                                                                                                                                                                                                                                                                                                                                                      text_clean_punc_lower  len_clean  vader_neg  vader_neu  vader_pos  vader_compound  textblob_sentiment  textblob_objectivity                                                                                                                                                                                                                                                                                                                                                                                                                                                                                                                                                                                                                         selftext  score_hidden archived  name           author author_flair_text  downs  created_utc subreddit_id    link_id   parent_id  score  retrieved_on  controversiality  gilded       id   subreddit  ups distinguished author_flair_css_class created_date post_type        date\n",
       "3605270  neutral   So much word salad!                                                                                                                                                                                                                                                                                                                                                                                                                                                                                                                                                                                                              So much word salad!                                                                                                                                                                                                                                                                                                                                                                                                                                                                                                                                                                                                  so much word salad                                                                                                                                                                                                                                                                                                                                                                                                                                                                                                                                                                         18         0.000      1.000      0.000      0.0000          0.200000            0.200000              So much word salad!                                                                                                                                                                                                                                                                                                                                                                                                                                                                                                                                                                                                             NaN            NaN     NaN    majorelle_blue   NaN              NaN     1561687965   t5_38unr     t3_c6djfn  t3_c6djfn   2      1571037655    0                 0       es84xw0  The_Donald NaN   NaN           NaN                    2019-06-27   extant    2019-06-27\n",
       "3844737  neutral   It's pronounced Milly - walk - ayyyy.                                                                                                                                                                                                                                                                                                                                                                                                                                                                                                                                                                                            It's pronounced Milly - walk - ayyyy.                                                                                                                                                                                                                                                                                                                                                                                                                                                                                                                                                                                its pronounced milly  walk  ayyyy                                                                                                                                                                                                                                                                                                                                                                                                                                                                                                                                                          33         0.000      1.000      0.000      0.0000          0.000000            0.000000              It's pronounced Milly - walk - ayyyy.                                                                                                                                                                                                                                                                                                                                                                                                                                                                                                                                                                                           NaN            NaN     NaN    Badgermilk15     NaN              NaN     1561462608   t5_38unr     t3_c4vyhk  t1_eryud5t  1      1570896466    0                 0       es01sy9  The_Donald NaN   NaN           NaN                    2019-06-25   extant    2019-06-25\n",
       "4113392  negative  #There are two kinds of people:\\n\\n**Criminals, and non-criminals**\\n\\nDemocrats support criminals. Many democrats themselves are criminals (looking at you Hillary). democrats want to have more crime, or to even \"legalize\" longstanding criminal acts. democrats want convicted felons voting. Democrats want more criminals coming into our country, and support criminal entry methods.\\n\\nIf you ask non-criminals about criminals they will say we should \"lock them up\". They think crime should be punished, and laws upheld.\\n\\nThat is pretty much the foundation of the political divide in the country right now.  #There are two kinds of people: **Criminals, and non-criminals** Democrats support criminals. Many democrats themselves are criminals (looking at you Hillary). democrats want to have more crime, or to even \"legalize\" longstanding criminal acts. democrats want convicted felons voting. Democrats want more criminals coming into our country, and support criminal entry methods. If you ask non-criminals about criminals they will say we should \"lock them up\". They think crime should be punished, and laws upheld. That is pretty much the foundation of the political divide in the country right now.  there are two kinds of people criminals and noncriminals democrats support criminals many democrats themselves are criminals looking at you hillary democrats want to have more crime or to even legalize longstanding criminal acts democrats want convicted felons voting democrats want more criminals coming into our country and support criminal entry methods if you ask noncriminals about criminals they will say we should lock them up they think crime should be punished and laws upheld that is pretty much the foundation of the political divide in the country right now  569        0.269      0.627      0.104     -0.9741          0.159524            0.492857              #There are two kinds of people:\\n\\n**Criminals, and non-criminals**\\n\\nDemocrats support criminals. Many democrats themselves are criminals (looking at you Hillary). democrats want to have more crime, or to even \"legalize\" longstanding criminal acts. democrats want convicted felons voting. Democrats want more criminals coming into our country, and support criminal entry methods.\\n\\nIf you ask non-criminals about criminals they will say we should \"lock them up\". They think crime should be punished, and laws upheld.\\n\\nThat is pretty much the foundation of the political divide in the country right now. NaN            NaN     NaN    Bulldog65        1776             NaN     1560527139   t5_38unr     t3_c0kjo4  t3_c0kjo4   12     1569900812    0                 0       er5j7ce  The_Donald NaN   NaN           MURICA                 2019-06-14   extant    2019-06-14\n",
       "3035067  neutral   She really is. ����                                                                                                                                                                                                                                                                                                                                                                                                                                                                                                                                                                                                              She really is.                                                                                                                                                                                                                                                                                                                                                                                                                                                                                                                                                                                                       she really is                                                                                                                                                                                                                                                                                                                                                                                                                                                                                                                                                                              14         0.000      1.000      0.000      0.0000          0.200000            0.200000              She really is. ����                                                                                                                                                                                                                                                                                                                                                                                                                                                                                                                                                                                                             NaN            NaN     NaN    InventorOfBacon  NaN              NaN     1563107088   t5_38unr     t3_ccyvg7  t1_etqixjw  6      1571987193    0                 0       etqyjmz  The_Donald NaN   NaN           NaN                    2019-07-14   extant    2019-07-14\n",
       "3038117  negative  I know what you mean, but it is not up to the bank to \"increase the wages\".  The wages will increase automatically if the system is operating in a true free market economy.  It has been well established for centuries.  If you game the system like the elites/bankers/communist on the upper side and the poor/free loading on the other side then this is what you get.                                                                                                                                                                                                                                                     I know what you mean, but it is not up to the bank to \"increase the wages\". The wages will increase automatically if the system is operating in a true free market economy. It has been well established for centuries. If you game the system like the elites/bankers/communist on the upper side and the poor/free loading on the other side then this is what you get.                                                                                                                                                                                                                                            i know what you mean but it is not up to the bank to increase the wages the wages will increase automatically if the system is operating in a true free market economy it has been well established for centuries if you game the system like the elitesbankerscommunist on the upper side and the poorfree loading on the other side then this is what you get                                                                                                                                                                                                                            351        0.000      0.744      0.256      0.9636         -0.014583            0.485417              I know what you mean, but it is not up to the bank to \"increase the wages\".  The wages will increase automatically if the system is operating in a true free market economy.  It has been well established for centuries.  If you game the system like the elites/bankers/communist on the upper side and the poor/free loading on the other side then this is what you get.                                                                                                                                                                                                                                                    NaN            NaN     NaN    maleitch         NaN              NaN     1564595786   t5_38unr     t3_ckb1kj  t1_evl97lq  54     1573344833    0                 0       evlkhbb  The_Donald NaN   NaN           NaN                    2019-07-31   extant    2019-07-31"
      ]
     },
     "execution_count": 133,
     "metadata": {},
     "output_type": "execute_result"
    }
   ],
   "source": [
    "labeled_data = labels.merge(data, left_index = True, right_index = True, how = 'left')\n",
    "print(labeled_data.shape)\n",
    "labeled_data.head()"
   ]
  },
  {
   "cell_type": "code",
   "execution_count": 87,
   "id": "ebae59cc",
   "metadata": {},
   "outputs": [
    {
     "data": {
      "text/plain": [
       "Text(0.5, 1.0, 'Negative Labels: Vader Score')"
      ]
     },
     "execution_count": 87,
     "metadata": {},
     "output_type": "execute_result"
    },
    {
     "data": {
      "image/png": "[encoded data removed]",
      "text/plain": [
       "<Figure size 432x288 with 1 Axes>"
      ]
     },
     "metadata": {
      "needs_background": "light"
     },
     "output_type": "display_data"
    }
   ],
   "source": [
    "labeled_data[labeled_data[\"label\"]==\"negative\"].hist(column=\"vader_compound\")\n",
    "plt.xlabel(\"Score\", size=15)\n",
    "plt.title(\"Negative Labels: Vader Score\", size=15)\n"
   ]
  },
  {
   "cell_type": "code",
   "execution_count": 134,
   "id": "7ff4a900",
   "metadata": {},
   "outputs": [
    {
     "data": {
      "text/plain": [
       "Text(0.5, 1.0, 'Negative Labels: Text Blob')"
      ]
     },
     "execution_count": 134,
     "metadata": {},
     "output_type": "execute_result"
    },
    {
     "data": {
      "image/png": "[encoded data removed]",
      "text/plain": [
       "<Figure size 432x288 with 1 Axes>"
      ]
     },
     "metadata": {
      "needs_background": "light"
     },
     "output_type": "display_data"
    }
   ],
   "source": [
    "labeled_data[labeled_data[\"label\"]==\"negative\"].hist(column=\"textblob_sentiment\")\n",
    "plt.xlabel(\"Score\", size=15)\n",
    "plt.title(\"Negative Labels: Text Blob\", size=15)\n"
   ]
  },
  {
   "cell_type": "code",
   "execution_count": 80,
   "id": "3353271a",
   "metadata": {},
   "outputs": [
    {
     "data": {
      "text/plain": [
       "Text(0.5, 1.0, 'Neutral Labels: Vader Score')"
      ]
     },
     "execution_count": 80,
     "metadata": {},
     "output_type": "execute_result"
    },
    {
     "data": {
      "image/png": "[encoded data removed]",
      "text/plain": [
       "<Figure size 432x288 with 1 Axes>"
      ]
     },
     "metadata": {
      "needs_background": "light"
     },
     "output_type": "display_data"
    }
   ],
   "source": [
    "labeled_data[labeled_data[\"label\"]==\"neutral\"].hist(column=\"vader_compound\")\n",
    "plt.xlabel(\"Score\", size=15)\n",
    "plt.title(\"Neutral Labels: Vader Score\", size=15)"
   ]
  },
  {
   "cell_type": "code",
   "execution_count": 137,
   "id": "d6b4de29",
   "metadata": {},
   "outputs": [
    {
     "data": {
      "text/plain": [
       "(-1.0, 1.0)"
      ]
     },
     "execution_count": 137,
     "metadata": {},
     "output_type": "execute_result"
    },
    {
     "data": {
      "image/png": "[encoded data removed]",
      "text/plain": [
       "<Figure size 432x288 with 1 Axes>"
      ]
     },
     "metadata": {
      "needs_background": "light"
     },
     "output_type": "display_data"
    }
   ],
   "source": [
    "labeled_data[labeled_data[\"label\"]==\"neutral\"].hist(column=\"textblob_sentiment\")\n",
    "plt.xlabel(\"Score\", size=15)\n",
    "plt.title(\"Neutral Labels: Text Blob\", size=15)\n",
    "plt.xlim([-1.0, 1.0])"
   ]
  },
  {
   "cell_type": "code",
   "execution_count": 138,
   "id": "2d42b364",
   "metadata": {},
   "outputs": [
    {
     "data": {
      "text/plain": [
       "(-1.0, 1.0)"
      ]
     },
     "execution_count": 138,
     "metadata": {},
     "output_type": "execute_result"
    },
    {
     "data": {
      "image/png": "[encoded data removed]",
      "text/plain": [
       "<Figure size 432x288 with 1 Axes>"
      ]
     },
     "metadata": {
      "needs_background": "light"
     },
     "output_type": "display_data"
    }
   ],
   "source": [
    "labeled_data[labeled_data[\"label\"]==\"positive\"].hist(column=\"vader_compound\")\n",
    "plt.xlabel(\"Score\", size=15)\n",
    "plt.title(\"Positive Labels: Vader Score\", size=15)\n",
    "plt.xlim([-1.0, 1.0])"
   ]
  },
  {
   "cell_type": "code",
   "execution_count": 139,
   "id": "3f1d4e24",
   "metadata": {},
   "outputs": [
    {
     "data": {
      "text/plain": [
       "(-1.0, 1.0)"
      ]
     },
     "execution_count": 139,
     "metadata": {},
     "output_type": "execute_result"
    },
    {
     "data": {
      "image/png": "[encoded data removed]",
      "text/plain": [
       "<Figure size 432x288 with 1 Axes>"
      ]
     },
     "metadata": {
      "needs_background": "light"
     },
     "output_type": "display_data"
    }
   ],
   "source": [
    "labeled_data[labeled_data[\"label\"]==\"positive\"].hist(column=\"textblob_sentiment\")\n",
    "plt.xlabel(\"Score\", size=15)\n",
    "plt.title(\"Positive Labels: Text Blob\", size=15)\n",
    "plt.xlim([-1.0, 1.0])"
   ]
  },
  {
   "cell_type": "code",
   "execution_count": 143,
   "id": "71d08605",
   "metadata": {},
   "outputs": [],
   "source": [
    "neg_cutoff = -0.25\n",
    "pos_cutoff = 0.25\n",
    "labeled_data[\"VADER PRED_LABEL\"] = np.where(labeled_data.vader_compound < neg_cutoff, 'negative',\n",
    "                           np.where(labeled_data.vader_compound > pos_cutoff,'positive', 'neutral'))\n",
    "\n",
    "labeled_data[\"TEXTBLOB PRED_LABEL\"] = np.where(labeled_data.textblob_sentiment < neg_cutoff, 'negative',\n",
    "                           np.where(labeled_data.textblob_sentiment > pos_cutoff,'positive', 'neutral'))"
   ]
  },
  {
   "cell_type": "code",
   "execution_count": 144,
   "id": "764d3c4f",
   "metadata": {},
   "outputs": [
    {
     "data": {
      "text/html": [
       "<div>\n",
       "<style scoped>\n",
       "    .dataframe tbody tr th:only-of-type {\n",
       "        vertical-align: middle;\n",
       "    }\n",
       "\n",
       "    .dataframe tbody tr th {\n",
       "        vertical-align: top;\n",
       "    }\n",
       "\n",
       "    .dataframe thead th {\n",
       "        text-align: right;\n",
       "    }\n",
       "</style>\n",
       "<table border=\"1\" class=\"dataframe\">\n",
       "  <thead>\n",
       "    <tr style=\"text-align: right;\">\n",
       "      <th>VADER PRED_LABEL</th>\n",
       "      <th>negative</th>\n",
       "      <th>neutral</th>\n",
       "      <th>positive</th>\n",
       "    </tr>\n",
       "    <tr>\n",
       "      <th>label</th>\n",
       "      <th></th>\n",
       "      <th></th>\n",
       "      <th></th>\n",
       "    </tr>\n",
       "  </thead>\n",
       "  <tbody>\n",
       "    <tr>\n",
       "      <th>negative</th>\n",
       "      <td>155</td>\n",
       "      <td>90</td>\n",
       "      <td>82</td>\n",
       "    </tr>\n",
       "    <tr>\n",
       "      <th>neutral</th>\n",
       "      <td>117</td>\n",
       "      <td>301</td>\n",
       "      <td>159</td>\n",
       "    </tr>\n",
       "    <tr>\n",
       "      <th>positive</th>\n",
       "      <td>4</td>\n",
       "      <td>20</td>\n",
       "      <td>63</td>\n",
       "    </tr>\n",
       "  </tbody>\n",
       "</table>\n",
       "</div>"
      ],
      "text/plain": [
       "VADER PRED_LABEL  negative  neutral  positive\n",
       "label                                        \n",
       "negative          155       90       82      \n",
       "neutral           117       301      159     \n",
       "positive          4         20       63      "
      ]
     },
     "execution_count": 144,
     "metadata": {},
     "output_type": "execute_result"
    }
   ],
   "source": [
    "pd.crosstab(labeled_data[\"label\"], labeled_data[\"VADER PRED_LABEL\"], dropna=False)"
   ]
  },
  {
   "cell_type": "code",
   "execution_count": 145,
   "id": "7551cde6",
   "metadata": {},
   "outputs": [
    {
     "data": {
      "text/html": [
       "<div>\n",
       "<style scoped>\n",
       "    .dataframe tbody tr th:only-of-type {\n",
       "        vertical-align: middle;\n",
       "    }\n",
       "\n",
       "    .dataframe tbody tr th {\n",
       "        vertical-align: top;\n",
       "    }\n",
       "\n",
       "    .dataframe thead th {\n",
       "        text-align: right;\n",
       "    }\n",
       "</style>\n",
       "<table border=\"1\" class=\"dataframe\">\n",
       "  <thead>\n",
       "    <tr style=\"text-align: right;\">\n",
       "      <th>TEXTBLOB PRED_LABEL</th>\n",
       "      <th>negative</th>\n",
       "      <th>neutral</th>\n",
       "      <th>positive</th>\n",
       "    </tr>\n",
       "    <tr>\n",
       "      <th>label</th>\n",
       "      <th></th>\n",
       "      <th></th>\n",
       "      <th></th>\n",
       "    </tr>\n",
       "  </thead>\n",
       "  <tbody>\n",
       "    <tr>\n",
       "      <th>negative</th>\n",
       "      <td>46</td>\n",
       "      <td>237</td>\n",
       "      <td>44</td>\n",
       "    </tr>\n",
       "    <tr>\n",
       "      <th>neutral</th>\n",
       "      <td>27</td>\n",
       "      <td>456</td>\n",
       "      <td>94</td>\n",
       "    </tr>\n",
       "    <tr>\n",
       "      <th>positive</th>\n",
       "      <td>0</td>\n",
       "      <td>50</td>\n",
       "      <td>37</td>\n",
       "    </tr>\n",
       "  </tbody>\n",
       "</table>\n",
       "</div>"
      ],
      "text/plain": [
       "TEXTBLOB PRED_LABEL  negative  neutral  positive\n",
       "label                                           \n",
       "negative             46        237      44      \n",
       "neutral              27        456      94      \n",
       "positive             0         50       37      "
      ]
     },
     "execution_count": 145,
     "metadata": {},
     "output_type": "execute_result"
    }
   ],
   "source": [
    "pd.crosstab(labeled_data[\"label\"], labeled_data[\"TEXTBLOB PRED_LABEL\"], dropna=False)"
   ]
  },
  {
   "cell_type": "code",
   "execution_count": 146,
   "id": "d224b99d",
   "metadata": {},
   "outputs": [
    {
     "name": "stdout",
     "output_type": "stream",
     "text": [
      "VADER Confusion Matrix\n",
      "\n",
      "[[155  90  82]\n",
      " [117 301 159]\n",
      " [  4  20  63]]\n"
     ]
    }
   ],
   "source": [
    "v_confusion = confusion_matrix(labeled_data[\"label\"].values, labeled_data[\"VADER PRED_LABEL\"].values)\n",
    "print('VADER Confusion Matrix\\n')\n",
    "print(v_confusion)"
   ]
  },
  {
   "cell_type": "code",
   "execution_count": 147,
   "id": "2cc1bd14",
   "metadata": {},
   "outputs": [
    {
     "name": "stdout",
     "output_type": "stream",
     "text": [
      "TEXTBLOB Confusion Matrix\n",
      "\n",
      "[[ 46 237  44]\n",
      " [ 27 456  94]\n",
      " [  0  50  37]]\n"
     ]
    }
   ],
   "source": [
    "t_confusion = confusion_matrix(labeled_data[\"label\"].values, labeled_data[\"TEXTBLOB PRED_LABEL\"].values)\n",
    "print('TEXTBLOB Confusion Matrix\\n')\n",
    "print(t_confusion)"
   ]
  },
  {
   "cell_type": "code",
   "execution_count": 153,
   "id": "9515797e",
   "metadata": {},
   "outputs": [
    {
     "name": "stdout",
     "output_type": "stream",
     "text": [
      "\n",
      "Accuracy: 0.52\n",
      "\n",
      "Weighted Precision: 0.63\n",
      "Weighted Recall: 0.52\n",
      "Weighted F1-score: 0.55\n"
     ]
    },
    {
     "data": {
      "image/png": "[encoded data removed]",
      "text/plain": [
       "<Figure size 432x288 with 2 Axes>"
      ]
     },
     "metadata": {
      "needs_background": "light"
     },
     "output_type": "display_data"
    }
   ],
   "source": [
    "y_test = labeled_data[\"label\"].values\n",
    "y_pred = labeled_data[\"VADER PRED_LABEL\"].values\n",
    "print('\\nAccuracy: {:.2f}\\n'.format(accuracy_score(y_test, y_pred)))\n",
    "\n",
    "print('Weighted Precision: {:.2f}'.format(precision_score(y_test, y_pred, average='weighted')))\n",
    "print('Weighted Recall: {:.2f}'.format(recall_score(y_test, y_pred, average='weighted')))\n",
    "print('Weighted F1-score: {:.2f}'.format(f1_score(y_test, y_pred, average='weighted')))\n",
    "\n",
    "ax= plt.subplot()\n",
    "sns.heatmap(v_confusion,annot=True, fmt='g', ax=ax);  #annot=True to annotate cells, ftm='g' to disable scientific notation\n",
    "\n",
    "# labels, title and ticks\n",
    "ax.set_xlabel('VADER Predicted labels');\n",
    "ax.set_ylabel('True labels'); \n",
    "ax.set_title('VADER Confusion Matrix'); \n",
    "ax.xaxis.set_ticklabels(['negative', 'neutral', 'positive']);\n",
    "ax.yaxis.set_ticklabels(['negative', 'neutral', 'positive']);"
   ]
  },
  {
   "cell_type": "code",
   "execution_count": 152,
   "id": "19125cfb",
   "metadata": {},
   "outputs": [
    {
     "name": "stdout",
     "output_type": "stream",
     "text": [
      "\n",
      "Accuracy: 0.54\n",
      "\n",
      "Weighted Precision: 0.58\n",
      "Weighted Recall: 0.54\n",
      "Weighted F1-score: 0.50\n"
     ]
    },
    {
     "data": {
      "image/png": "[encoded data removed]",
      "text/plain": [
       "<Figure size 432x288 with 2 Axes>"
      ]
     },
     "metadata": {
      "needs_background": "light"
     },
     "output_type": "display_data"
    }
   ],
   "source": [
    "y_test = labeled_data[\"label\"].values\n",
    "y_pred = labeled_data[\"TEXTBLOB PRED_LABEL\"].values\n",
    "print('\\nAccuracy: {:.2f}\\n'.format(accuracy_score(y_test, y_pred)))\n",
    "\n",
    "print('Weighted Precision: {:.2f}'.format(precision_score(y_test, y_pred, average='weighted')))\n",
    "print('Weighted Recall: {:.2f}'.format(recall_score(y_test, y_pred, average='weighted')))\n",
    "print('Weighted F1-score: {:.2f}'.format(f1_score(y_test, y_pred, average='weighted')))\n",
    "\n",
    "ax= plt.subplot()\n",
    "sns.heatmap(t_confusion,annot=True, fmt='g', ax=ax);  #annot=True to annotate cells, ftm='g' to disable scientific notation\n",
    "\n",
    "# labels, title and ticks\n",
    "ax.set_xlabel('TEXTBLOB Predicted labels');\n",
    "ax.set_ylabel('True labels'); \n",
    "ax.set_title('TEXTBLOB Confusion Matrix'); \n",
    "ax.xaxis.set_ticklabels(['negative', 'neutral', 'positive']);\n",
    "ax.yaxis.set_ticklabels(['negative', 'neutral', 'positive']);"
   ]
  },
  {
   "cell_type": "code",
   "execution_count": null,
   "id": "d63ea011",
   "metadata": {},
   "outputs": [],
   "source": []
  }
 ],
 "metadata": {
  "kernelspec": {
   "display_name": "Python 3",
   "language": "python",
   "name": "python3"
  },
  "language_info": {
   "codemirror_mode": {
    "name": "ipython",
    "version": 3
   },
   "file_extension": ".py",
   "mimetype": "text/x-python",
   "name": "python",
   "nbconvert_exporter": "python",
   "pygments_lexer": "ipython3",
   "version": "3.8.8"
  }
 },
 "nbformat": 4,
 "nbformat_minor": 5
}
