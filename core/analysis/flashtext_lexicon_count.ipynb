{
 "metadata": {
  "language_info": {
   "codemirror_mode": {
    "name": "ipython",
    "version": 3
   },
   "file_extension": ".py",
   "mimetype": "text/x-python",
   "name": "python",
   "nbconvert_exporter": "python",
   "pygments_lexer": "ipython3",
   "version": "3.9.2"
  },
  "orig_nbformat": 2,
  "kernelspec": {
   "name": "python392jvsc74a57bd03cf75d70dfe167132c2240241d5ed0c341a92196727a13cf5a83841ccc699d3a",
   "display_name": "Python 3.9.2 64-bit ('CAPP': conda)"
  }
 },
 "nbformat": 4,
 "nbformat_minor": 2,
 "cells": [
  {
   "cell_type": "code",
   "execution_count": 6,
   "metadata": {},
   "outputs": [],
   "source": [
    "import flashtext\n",
    "import pandas as pd\n",
    "import os\n",
    "import numpy as np\n",
    "\n",
    "posts_file_path = os.path.join('..','data', \"all_clean_str_extant_posts.pkl\")\n",
    "posts_df = pd.read_pickle(posts_file_path)"
   ]
  },
  {
   "cell_type": "code",
   "execution_count": 7,
   "metadata": {},
   "outputs": [],
   "source": [
    "#From https://github.com/miriamfs/WebSci2019/edit/master/Lexicon.txt (Code and Lexicons for WebSci2019 paper: Exploring Misogyny across the Manosphere in Reddit)\n",
    "\n",
    "hate_lexicon = {\n",
    "    'Belitting' : ['b00bs', 'becky', 'big ass', 'bint', 'bints', 'bird', 'birds', 'boob', 'boobies', 'boobs', 'booobs', 'boooobs',\n",
    "        'booooobs', 'booooooobs', 'camel toe', 'chesticles', 'cock waffle', 'dumb', 'dumbass', 'f4nny', 'failure',\n",
    "        'fanny', 'fannyflaps', 'female', 'femoid', 'fho', 'fugly', 'funfuck', 'muff', 'pearlnecklace', 'peehole',\n",
    "        'pissflaps', 'poon', 'poonani', 'poontang', 'pornprincess', 'pua', 'puntang', 'puss', 'pussylips', 'roastie',\n",
    "        'shit heel', 'shit heels', 'short fuck', 'skin flute', 'smv', 'snowflake', 'spermhearder', 'spermherder',\n",
    "        'stacy', 't1tt1e5', 't1tties', 'tittie', 'titties', 'titty', 'tittyfuck', 'unfuckable', 'va-j-j'],\n",
    "    'Flipping_the_Narrative': ['beta', 'mgtow', 'mra', 'normie', 'overthrow', 'prevail', 'vanquish'],\n",
    "    'Homophobia': ['analannie', 'ass cowboy', 'ass jacker', 'ass whore', 'ass-assinate', 'ass-jabber', 'ass-pirate', 'assbandit',\n",
    "        'assbanger', 'assblaster', 'assfuck', 'assfucker', 'asshopper', 'assklown', 'asslick', 'asslicker', 'assman',\n",
    "        'asspacker', 'asspuppy', 'assranger', 'asssucker', 'backdoor man', 'ball licker', 'bulldike', 'bulldyke',\n",
    "        'bunny fucker', 'butchdyke', 'butt fucker', 'butt pirate', 'buttbang', 'buttfuck', 'buttfucka', 'buttpirate',\n",
    "        'c0cksucker', 'carpet muncher', 'cock cowboy', 'cock jockey', 'cock licker', 'cock smoke', 'cock suck',\n",
    "        'cock-sucker', 'cockmunch', 'cockmuncher', 'cockqueen', 'cockrider', 'cocksman', 'cocksmith', 'cocksmoker',\n",
    "        'cocksniffer', 'cocksuck', 'cocksucked', 'cocksucker', 'cocksucking', 'cocksucks', 'cocksuka', 'cocksukka',\n",
    "        'cokmuncher', 'coksucka', 'cuntfucker', 'cuntlick', 'cuntlicker', 'cuntlicking', 'dick licker', 'dickfuck',\n",
    "        'dickfucker', 'dicklick', 'dickman', 'dickmonger', 'dicksucker', 'dyke', 'dyke jumper', 'dyke jumpers', 'dykes',\n",
    "        'fag', 'fagfucker', 'fagging', 'faggitt', 'faggot', 'faggs', 'fagot', 'fagots', 'fags', 'fanny fucker',\n",
    "        'fannyfucker', 'fingerfucker', 'fingerfuckers', 'fistfucker', 'fistfuckers', 'fudge packer', 'fudgepacker',\n",
    "        'gayass', 'gaybob', 'gaydo', 'gayfuck', 'gayfuckist', 'gaylord', 'gaysex', 'gaytard', 'gaywad', 'homo',\n",
    "        'muffdive', 'muffindiver', 'mufflikcer', 'nob jokey', 'nobhead', 'nobjocky', 'nobjokey', 'penisbanger',\n",
    "        'penisfucker', 'penispuffer', 'polesmoker', 'pussyeater', 'pussyfucker', 'pussylicker', 'pussylicking',\n",
    "        'pussylover', 'pussypounder', 'queer', 'queers', 'rimjaw', 'sodomite', 'lez', 'lezbo', 'lezz', 'lezzie', 'lezzo'],\n",
    "    'Hostility': ['ass-hat', 'assbag', 'assbite', 'asscock', 'assface', 'asshat', 'asshead', 'asshole', 'assshit', 'asswipe',\n",
    "        'awalt', 'b!tch', 'b17ch', 'b1tch', 'bad fuck', 'balls', 'banging', 'bastard', 'beastiality', 'beat', 'beaver',\n",
    "        'bi+ch', 'biatch', 'big butt', 'bitch', 'bitch ass', 'bitcher', 'bitchers', 'bitches', 'bitchtits', 'bite me',\n",
    "        'blockhead', 'blockheads', 'boang', 'bogan', 'bogans', 'bottom-feeder', 'brotherfucker', 'butterhead',\n",
    "        'butterheads', 'buttface', 'byatch', 'cause pain', 'chav', 'chavs', 'cheese eating surrender monkey',\n",
    "        'cheese eating surrender monkies', 'clitface', 'cock knob', 'cockbite', 'cockblocker', 'cockhead', 'cockmaster',\n",
    "        'cockmongler', 'cocknose', 'cocknugget', 'conchuda', 'conchudas', 'coochie', 'coochy', 'crotchrot',\n",
    "        'cum bubble', 'cum guzzler', 'cum jockey', 'cum tart', 'cumdumpster', 'cumquat', 'cumqueen', 'cumslut', 'cunt',\n",
    "        'cunt rag', 'cuntass', 'cuntface', 'cuntfuck', 'cunthole', 'cuntlick', 'cunts', 'cuntslut', 'demonrats',\n",
    "        'dick beaters', 'dick for brains', 'dick weasel', 'dick wod', 'dickbag', 'dickbrain', 'dickface',\n",
    "        'dickless', 'dicktickler', 'dickwad', 'dickweed', 'dingo fucker', 'dingo fuckers', 'dipshit', 'dipstick',\n",
    "        'douche', 'douchebag', 'dum ass', 'dumb fuck', 'dumbass', 'dumbbitch', 'dumbfuck', 'eat me', 'eat pussy',\n",
    "        'entrap', 'ewalt', 'extort', 'fastfuck', 'fatass', 'felcher', 'feltcher', 'finger fucker', 'fingerfuckers',\n",
    "        'fist fuck', 'fistfucker', 'footfucker', 'fucka', 'fuckable', 'fuckass', 'fuckbag', 'fuckboy', 'fuckbrain',\n",
    "        'fuckbuddy', 'fucker', 'fuckers', 'fuckersucker', 'fuckface', 'fuckfest', 'fuckfreak', 'fuckfriend', 'fuckhead',\n",
    "        'fuckher', 'fuckina', 'fuckingbitch', 'fuckit', 'fuckknob', 'fuckpig', 'fucktard', 'fuckup',\n",
    "        'fuckwhore', 'fuckyou', 'gangbanger', 'gash', 'gashes', 'greaseball', 'harm', 'hate', 'hayseed', 'hick',\n",
    "        'hicks', 'hillbilly', 'ho', 'hoar', 'hoare', 'hoe', 'hoer', 'hoes', 'honkey', 'honky', 'hoodrat', 'hoodrats',\n",
    "        'hore', 'hos', 'hurt', 'hussy', 'idiot', 'idiots', 'intimidate', 'jackass', 'kunt', 'l3i+ch', 'l3itch',\n",
    "        'lardass', 'libtards', 'limpdick', 'menace', 'milf', 'minge', 'mock',\n",
    "        'mocks', 'moron', 'mothafuck', 'mothafucka', 'mothafuckas', 'mothafuckaz', 'mothafucked', 'mothafucker',\n",
    "        'mothafuckers', 'mothafucks', 'mother fucker', 'motherfuck',\n",
    "        'motherfucked', 'motherfucker', 'motherfuckers', 'motherfuckings',\n",
    "        'motherfuckka', 'motherfucks', 'muthafecker', 'muthafuckker', 'mutherfucker', 'nutsack', 'paleface',\n",
    "        'palefaces', 'panooch', 'peckerwood', 'pindick', 'pohm', 'pohms', 'poor white trash', 'pu55i', 'pu55y',\n",
    "        'punish', 'pusse', 'pussi', 'pussie', 'pussies', 'pussy', 'pussys', 'pusy', 'queerhole', 'redneck', 'rednecks',\n",
    "        'rentafuck', 'retard', 'retarded', 'russellite', 'russellites', 'scag', 'scags', 'scumbag', 'seppo', 'seppos',\n",
    "        'sheepfucker', 'sheepfuckers', 'shit kicker', 'shit kickers', 'shitface', 'shithead', 'shitspitter',\n",
    "        'skag', 'skags', 'skank',\n",
    "        'skank bitch', 'skank fuck', 'skank whore', 'skanky', 'skanky bitch', 'skanky whore', 'skullfuck', 'slag',\n",
    "        'slags', 'slit', 'slits', 'slut', 'slut wear', 'slut whore', 'slutbag', 'sluts', 'slutt', 'slutting', 'slutty',\n",
    "        'slutwhore', 'smear', 'snatch', 'son-of-a-bitch', 'spermbag', 'sub human', 'sub humans', 'suckme', 'suckmytit',\n",
    "        'tard', 'terrorize', 'threaten', 'thrust', 'titfucker', 'titfuckin', 'trailertrash', 'trisexual', 'turd',\n",
    "        'tw4t', 'twat', 'twathead', 'twats', 'twatty', 'twatwaffle', 'twobitwhore', 'twunt', 'twunter', 'wanker',\n",
    "        'wasp', 'wasps', 'waspy', 'white trash', 'whitey', 'whities', 'whoar', 'whore', 'whore from fife',\n",
    "        'whore from fifes', 'whorefucker', 'whores', 'williewanker', 'wuss', 'yankee'],\n",
    "    'Patriarchy': ['amog', 'betabuxx', 'compel', 'oblige', 'omega', 'overwhelm', 'subjugate', 'suppress'],\n",
    "    'Physical_Violence': ['annihilate', 'assail', 'assassinate', 'assault', 'attack', 'bang', 'batter', 'blast', 'block', 'bring down',\n",
    "        'bruise', 'brutalise', 'burn', 'bust', 'butcher', 'carry off', 'choke', 'clobber', 'concuss', 'constrain',\n",
    "        'crack', 'crush', 'cut', 'decimate', 'demolish', 'destroy', 'dispose of', 'drown', 'enslave', 'er',\n",
    "        'exterminate', 'finish off', 'flagellate', 'force', 'gag', 'hit', 'jump', 'kick', 'kill', 'lock up', 'maul',\n",
    "        'murder', 'obliterate', 'pelt', 'plunk', 'pounce upon', 'pummel', 'punch', 'raid', 'ram', 'shake', 'shake down',\n",
    "        'shoot ', 'shove', 'slam', 'slap', 'slaughter', 'slog', 'smack', 'smash', 'smother', 'stab', 'strangle',\n",
    "        'strike', 'strong-arm', 'thrash', 'thresh', 'thwack', 'trample', 'trounce', 'vaporize', 'wallop', 'whip'],\n",
    "    'Racism': ['abbo', 'abbos', 'abo', 'abos', 'african catfish', 'african catfishes', 'african forklift', 'africoon',\n",
    "        'africoons', 'afro-saxon', 'afro-saxons', 'albino', 'albinos', 'alligator bait', 'alligator baits', 'americoon',\n",
    "        'americoons', 'amo', 'amos', 'anglo', 'anglos', 'arab', 'argie', 'argies', 'armo', 'armos', 'assnigger',\n",
    "        'aunt jemima', 'aunt jemimas', 'bamboo coon', 'bamboo coons', 'banana bender', 'banana benders',\n",
    "        'banana lander', 'banana landers', 'banjo lips', 'bans and cans', 'beach nigger', 'beach niggers',\n",
    "        'bean dipper', 'bean dippers', 'beaner', 'beaner shnitzel', 'beaner shnitzels', 'beaners', 'beaney', 'beanies',\n",
    "        'bhrempti', 'bhremptis', 'bigger', 'bix nood', 'bix noods', 'black', 'black barbie', 'black barbies',\n",
    "        'black dago', 'black dagos', 'blaxican', 'blaxicans', 'bluegum', 'bluegums', 'bog hopper', 'bog hoppers',\n",
    "        'bog irish', 'bog irishes', 'bog jumper', 'bog jumpers', 'bog trotter', 'bog trotters', 'bohunk', 'booner',\n",
    "        'booners', 'boong', 'boonga', 'boongas', 'boongs', 'boonie', 'boonies', 'border bunnies', 'border bunny',\n",
    "        'border hoppers', 'border nigger', 'border niggers', 'buckethead', 'bucketheads', 'buckra', 'buckras',\n",
    "        'buckwheat', 'buckwheats', 'buddhahead', 'buddhaheads', 'buffie', 'buffies', 'bug eater', 'bug eaters',\n",
    "        'buk buk', 'buk buks', 'bung', 'bunga', 'bungas', 'bungs', 'burrhead', 'burrheads', 'cab nigger', 'cab niggers',\n",
    "        'camel cowboies', 'camel cowboy', 'camel fucker', 'camel fuckers', 'camel humper', 'camel humpers',\n",
    "        'camel jacker', 'camel jackers', 'camel jockey', 'can eater', 'can eaters', 'canuck', 'carpet pilot',\n",
    "        'carpet pilots', 'carrot snapper', 'carrot snappers', 'caublasian', 'caublasians', 'cave nigger',\n",
    "        'cave niggers', 'charva', 'charvas', 'chigger', 'chiggers', 'chili shitter', 'chili shitters', 'chinaman',\n",
    "        'chinc', 'chinese wetback', 'chinese wetbacks', 'ching chong', 'ching chongs', 'chinig', 'chinigs', 'chink',\n",
    "        'chink a billies', 'chink a billy', 'chinks', 'chinky', 'chonkies', 'chonky', 'christ killer', 'christ killers',\n",
    "        'chug', 'chugs', 'clamhead', 'clamheads', 'clog wog', 'coolie', 'coolies', 'coon', 'coondog', 'coons',\n",
    "        'cow kisser', 'cow kissers', 'cowboy killer', 'cowboy killers', 'cracker', 'crackers', 'cunteyed',\n",
    "        'curry slurper', 'curry slurpers', 'curry stinker', 'curry stinkers', 'cushi', 'cushis', 'cushite', 'cushites',\n",
    "        'dago', 'dagos', 'darkey', 'darkie', 'darkies', 'darky', 'dego', 'degos', 'diaper head', 'diaper heads',\n",
    "        'dinge', 'dinges', 'dogun', 'doguns', 'dot head', 'dot heads', 'dune coon', 'dune coons', 'dune nigger',\n",
    "        'dune niggers', 'eskimo', 'eyetie', 'eyeties', 'fob', 'fobs', 'fog nigger',\n",
    "        'fog niggers', 'fresh off the boat', 'fresh off the boats', 'gator bait', 'gator baits', 'gerudo', 'gerudos',\n",
    "        'gew', 'gews', 'ghetto hamster', 'ghetto hamsters', 'gin jockey', 'gin jockies', 'ginzo', 'ginzos', 'gipp',\n",
    "        'gippo', 'gippos', 'gipps', 'gipsy', 'golliwog', 'golliwogs', 'gook', 'gook eye', 'gook eyes', 'gookies',\n",
    "        'gooks', 'gooky', 'goy', 'goyim', 'greaser', 'greasers', 'gringo', 'groid', 'groids', 'guala guala',\n",
    "        'guala gualas', 'gub', 'gubba', 'gubbas', 'gubs', 'guido', 'guidos', 'gurrier', 'gurriers', 'gwat', 'gwats',\n",
    "        'gyppie', 'gyppies', 'gyppy', 'gypsy', 'hairyback', 'hairybacks', 'half-breed', 'half-caste', 'halfrican',\n",
    "        'halfricans', 'haole', 'hapa', 'hebe', 'hebes', 'hebro', 'hebros', 'heeb', 'heebs', 'heinie', 'heinies',\n",
    "        'higger', 'higgers', 'hindoo', 'hodgie', 'honyak', 'honyaks', 'honyock', 'honyocks', 'hoosier', 'hoosiers',\n",
    "        'hun', 'hunkie', 'hunkies', 'hunky', 'huns', 'hunyak', 'hunyaks', 'hunyock', 'hunyocks', 'hymie', 'hymies',\n",
    "        'ice monkey', 'ice monkies', 'ice nigger', 'ice niggers', 'ike', 'ikes', 'ikey', 'ikey mo', 'ikey mos', 'ikies',\n",
    "        'iky', 'injun', 'injuns', 'island nigger', 'island niggers', 'jant', 'jants', 'jap', 'japie', 'japies', 'japs',\n",
    "        'jewbacca', 'jewbaccas', 'jhant', 'jhants', 'jig', 'jiga', 'jigaboo', 'jigarooni', 'jigaroonis', 'jigg',\n",
    "        'jigga', 'jiggabo', 'jiggabos', 'jiggas', 'jigger', 'jiggers', 'jiggs', 'jigs', 'jijjiboo', 'jijjiboos',\n",
    "        'jimfish', 'jockie', 'jockies', 'jocky', 'junglebunny', 'kaffir', 'kafir', 'khazar', 'khazars', 'kike', 'kikes',\n",
    "        'kotiya', 'kotiyas', 'kraut', 'krauts', 'kushi', 'kushis', 'kushite', 'kushites', 'kyke', 'kykes', 'latrino',\n",
    "        'latrinos', 'lawn jockey', 'lawn jockies', 'leb', 'lebbo', 'lebbos', 'lebs', 'lemonhead', 'lemonheads',\n",
    "        'leprechaun', 'leprechauns', 'ling ling', 'ling lings', 'lowlander', 'lowlanders', 'lubra', 'lubras', 'lugan',\n",
    "        'lugans', 'makwerekwere', 'mammy', 'mangia cake', 'mangia cakes', 'mick', 'micks', 'mockey', 'mockie',\n",
    "        'mockies', 'mocky', 'moke', 'mokes', 'mokies', 'moky', 'mook', 'mooks', 'mooncricket', 'moss eater',\n",
    "        'moss eaters', 'mosshead', 'mossheads', 'moulie', 'moulies', 'moulignon', 'moulignons', 'moulinyan',\n",
    "        'moulinyans', 'mud person', 'mud persons', 'mud shark', 'mud sharks', 'muk', 'muks', 'muktuk', 'muktuks',\n",
    "        'mulato', 'mulatos', 'mulatto', 'mulignan', 'mulignans', 'mutt', 'mutts', 'n1gga', 'n1gger', 'negress', 'negro',\n",
    "        'negroes', 'negroid', 'negros', 'net head', 'net heads', 'nichi', 'nichis', 'nichiwa', 'nichiwas', 'nig',\n",
    "        'nigaboo', 'nigar', 'nigars', 'niger', 'nigers', 'nigette', 'nigettes', 'nigg', 'nigg3r', 'nigg4h', 'nigga',\n",
    "        'niggah', 'niggas', 'niggaz', 'nigger', 'niggers', 'niggor', 'niggors', 'niggur', 'niglet', 'nignog', 'nigor',\n",
    "        'nigors', 'nigr', 'nigra', 'nigras', 'nigre', 'nigres', 'nitchee', 'nitchees', 'nitchie', 'nitchies', 'nitchy',\n",
    "        'nlgger', 'nlggor', 'northern monkey', 'northern monkies', 'ocker', 'ockers', 'octaroon', 'octaroons', 'ofaies',\n",
    "        'ofay', 'oriental', 'orientals', 'paddies', 'paddy', 'pakeha', 'paki', 'pakis', 'pancake face', 'pancake faces',\n",
    "        'papist', 'papists', 'picaninny', 'pickaninnies', 'pickaninny', 'piker', 'pikers', 'pikies', 'piky',\n",
    "        'pineapple nigger', 'pineapple niggers', 'ping pang', 'ping pangs', 'pocho', 'pocohantas', 'pogue', 'pogues',\n",
    "        'pohm', 'polack', 'polacks', 'pollock', 'pommy', 'popolo', 'popolos', 'poppadom', 'poppadoms', 'porch monkey',\n",
    "        'porchmonkey', 'prairie nigger', 'prairie niggers', 'proddy dog', 'proddy dogs', 'proddywhoddies',\n",
    "        'proddywhoddy', 'proddywoddies', 'proddywoddy', 'pygmy', 'quadroon', 'quadroons', 'raghead', 'red indian',\n",
    "        'redlegs', 'redskin', 'redskins', 'rhine monkey', 'rhine monkies', 'roofucker', 'roofuckers', 'roundeye',\n",
    "        'roundeyes', 'ruski', 'sambo', 'sambos', 'sand niggerette', 'sand niggerettes', 'sandnigger', 'scallie',\n",
    "        'scallies', 'scally', 'scanger', 'scangers', 'semihole', 'semiholes', 'senga', 'sengas', 'seppo',\n",
    "        'shanty irish', 'shanty irishes', 'sheister', 'sheisters', 'sheltas', 'shylock', 'shylocks', 'shyster',\n",
    "        'shysters', 'sideways pussies', 'sideways pussy', 'skanger', 'skangers', 'slant', 'slant eye', 'slant eyes',\n",
    "        'slants', 'slopehead', 'slopeheads', 'slopies', 'smoke jumper', 'smoke jumpers', 'snownigger', 'sooties',\n",
    "        'sooty', 'soup taker', 'soup takers', 'southern fairies', 'southern fairy', 'spaghettibender',\n",
    "        'spaghettinigger', 'spic', 'spice nigger', 'spice niggers', 'spick', 'spickaboo', 'spickaboos', 'spicks',\n",
    "        'spics', 'spide', 'spides', 'spig', 'spigger', 'spiggers', 'spigotties', 'spigotty', 'spigs', 'spik', 'spiks',\n",
    "        'spink', 'spinks', 'spiv', 'spivs', 'spook', 'spooks', 'squaw', 'squaws', 'steek', 'steeks', 'stump jumper',\n",
    "        'stump jumpers', 'taffy', 'teabagger', 'teabaggers', 'thicklips', 'timber nigger', 'timber niggers',\n",
    "        'timbernigger', 'tinkard', 'tinkards', 'touch of the tar brush', 'touch of the tar brushes', 'towel head',\n",
    "        'towel heads', 'towelhead', 'tree jumper', 'tree jumpers', 'tunnel digger', 'tunnel diggers', 'tyncar',\n",
    "        'tyncars', 'tynekere', 'tynekeres', 'tynkard', 'tynkards', 'tynkare', 'tynkares', 'tynker', 'tynkere',\n",
    "        'tynkeres', 'tynkers', 'uncircumcised baboon', 'uncircumcised baboons', 'uncle tom', 'velcro head',\n",
    "        'velcro heads', 'wagon burner', 'wagon burners', 'wetback', 'wexican', 'wexicans', 'whigger', 'white nigger',\n",
    "        'white niggers', 'whitenigger', 'wiggerette', 'wiggerettes', 'wog', 'wogs', 'wop', 'wops', 'yellowman', 'yid',\n",
    "        'zigabo', 'zigabos', 'zipperhead', 'zipperheads', 'zippohead', 'zippoheads', 'zog', 'zog lover', 'zog lovers',\n",
    "        'zogs', 'sideways cooter', 'sideways cooters', 'sideways vagina', 'sideways vaginas'],\n",
    "    'Sexual_Violence': ['cherry popper', 'clitfuck', 'cock block', 'cock carousel', 'cock tease', 'conquer', 'gangbang', 'gangbanged',\n",
    "        'gangbangs', 'incest', 'infiltrate', 'insest', 'lolita', 'molest', 'molestation', 'pound', 'rape', 'sodomise',\n",
    "        'sodomize', 'spank', 'unclefucker', 'virginbreaker'],\n",
    "    'Stoicism': ['blackops2cel', 'blackpill', 'chad', 'cope', 'cuck', 'currycel', 'fakecel', 'friendless', 'fuel', 'gymcel',\n",
    "        'handholdless', 'heightcel', 'hugless', 'hypergamy', 'incel', 'jbw', 'jfl', 'kissless', 'kthhfv', 'ldar',\n",
    "        'looksmatch', 'looksmaxx', 'meeks', 'mogs', 'redpill', 'ricecel', 'rope', 'touchless', 'truecel', 'tyrone',\n",
    "        'volcel', 'wagecel', 'wristcel']\n",
    "}\n"
   ]
  },
  {
   "cell_type": "code",
   "execution_count": 13,
   "metadata": {},
   "outputs": [],
   "source": [
    "kp = flashtext.KeywordProcessor()\n",
    "kp.add_keywords_from_dict(hate_lexicon)\n",
    "def flashtext_count(processor, bodytext):\n",
    "    rv_dict = processor.extract_keywords(bodytext)\n",
    "    return pd.Series(rv_dict).value_counts().to_dict()"
   ]
  },
  {
   "cell_type": "code",
   "execution_count": 12,
   "metadata": {},
   "outputs": [
    {
     "output_type": "error",
     "ename": "NameError",
     "evalue": "name 'flashtext_count' is not defined",
     "traceback": [
      "\u001b[0;31m---------------------------------------------------------------------------\u001b[0m",
      "\u001b[0;31mNameError\u001b[0m                                 Traceback (most recent call last)",
      "\u001b[0;32m<ipython-input-12-3928f9bd90c8>\u001b[0m in \u001b[0;36m<module>\u001b[0;34m\u001b[0m\n\u001b[0;32m----> 1\u001b[0;31m \u001b[0mcounted_lexicon\u001b[0m \u001b[0;34m=\u001b[0m \u001b[0mposts_df\u001b[0m\u001b[0;34m[\u001b[0m\u001b[0;34m'text_clean_punc_lower'\u001b[0m\u001b[0;34m]\u001b[0m\u001b[0;34m.\u001b[0m\u001b[0mapply\u001b[0m\u001b[0;34m(\u001b[0m\u001b[0;32mlambda\u001b[0m \u001b[0mtext\u001b[0m\u001b[0;34m:\u001b[0m \u001b[0mflashtext_count\u001b[0m\u001b[0;34m(\u001b[0m\u001b[0mkp\u001b[0m\u001b[0;34m,\u001b[0m \u001b[0mtext\u001b[0m\u001b[0;34m)\u001b[0m\u001b[0;34m)\u001b[0m\u001b[0;34m\u001b[0m\u001b[0;34m\u001b[0m\u001b[0m\n\u001b[0m",
      "\u001b[0;32m~/miniconda3/envs/CAPP/lib/python3.9/site-packages/pandas/core/series.py\u001b[0m in \u001b[0;36mapply\u001b[0;34m(self, func, convert_dtype, args, **kwds)\u001b[0m\n\u001b[1;32m   4136\u001b[0m             \u001b[0;32melse\u001b[0m\u001b[0;34m:\u001b[0m\u001b[0;34m\u001b[0m\u001b[0;34m\u001b[0m\u001b[0m\n\u001b[1;32m   4137\u001b[0m                 \u001b[0mvalues\u001b[0m \u001b[0;34m=\u001b[0m \u001b[0mself\u001b[0m\u001b[0;34m.\u001b[0m\u001b[0mastype\u001b[0m\u001b[0;34m(\u001b[0m\u001b[0mobject\u001b[0m\u001b[0;34m)\u001b[0m\u001b[0;34m.\u001b[0m\u001b[0m_values\u001b[0m\u001b[0;34m\u001b[0m\u001b[0;34m\u001b[0m\u001b[0m\n\u001b[0;32m-> 4138\u001b[0;31m                 \u001b[0mmapped\u001b[0m \u001b[0;34m=\u001b[0m \u001b[0mlib\u001b[0m\u001b[0;34m.\u001b[0m\u001b[0mmap_infer\u001b[0m\u001b[0;34m(\u001b[0m\u001b[0mvalues\u001b[0m\u001b[0;34m,\u001b[0m \u001b[0mf\u001b[0m\u001b[0;34m,\u001b[0m \u001b[0mconvert\u001b[0m\u001b[0;34m=\u001b[0m\u001b[0mconvert_dtype\u001b[0m\u001b[0;34m)\u001b[0m\u001b[0;34m\u001b[0m\u001b[0;34m\u001b[0m\u001b[0m\n\u001b[0m\u001b[1;32m   4139\u001b[0m \u001b[0;34m\u001b[0m\u001b[0m\n\u001b[1;32m   4140\u001b[0m         \u001b[0;32mif\u001b[0m \u001b[0mlen\u001b[0m\u001b[0;34m(\u001b[0m\u001b[0mmapped\u001b[0m\u001b[0;34m)\u001b[0m \u001b[0;32mand\u001b[0m \u001b[0misinstance\u001b[0m\u001b[0;34m(\u001b[0m\u001b[0mmapped\u001b[0m\u001b[0;34m[\u001b[0m\u001b[0;36m0\u001b[0m\u001b[0;34m]\u001b[0m\u001b[0;34m,\u001b[0m \u001b[0mSeries\u001b[0m\u001b[0;34m)\u001b[0m\u001b[0;34m:\u001b[0m\u001b[0;34m\u001b[0m\u001b[0;34m\u001b[0m\u001b[0m\n",
      "\u001b[0;32mpandas/_libs/lib.pyx\u001b[0m in \u001b[0;36mpandas._libs.lib.map_infer\u001b[0;34m()\u001b[0m\n",
      "\u001b[0;32m<ipython-input-12-3928f9bd90c8>\u001b[0m in \u001b[0;36m<lambda>\u001b[0;34m(text)\u001b[0m\n\u001b[0;32m----> 1\u001b[0;31m \u001b[0mcounted_lexicon\u001b[0m \u001b[0;34m=\u001b[0m \u001b[0mposts_df\u001b[0m\u001b[0;34m[\u001b[0m\u001b[0;34m'text_clean_punc_lower'\u001b[0m\u001b[0;34m]\u001b[0m\u001b[0;34m.\u001b[0m\u001b[0mapply\u001b[0m\u001b[0;34m(\u001b[0m\u001b[0;32mlambda\u001b[0m \u001b[0mtext\u001b[0m\u001b[0;34m:\u001b[0m \u001b[0mflashtext_count\u001b[0m\u001b[0;34m(\u001b[0m\u001b[0mkp\u001b[0m\u001b[0;34m,\u001b[0m \u001b[0mtext\u001b[0m\u001b[0;34m)\u001b[0m\u001b[0;34m)\u001b[0m\u001b[0;34m\u001b[0m\u001b[0;34m\u001b[0m\u001b[0m\n\u001b[0m",
      "\u001b[0;31mNameError\u001b[0m: name 'flashtext_count' is not defined"
     ]
    }
   ],
   "source": [
    "counted_lexicon = posts_df['text_clean_punc_lower'].apply(lambda text: flashtext_count(kp, text))"
   ]
  },
  {
   "cell_type": "code",
   "execution_count": 12,
   "metadata": {},
   "outputs": [
    {
     "output_type": "stream",
     "name": "stderr",
     "text": [
      "<ipython-input-6-3290bf2139de>:18: DeprecationWarning: The default dtype for empty Series will be 'object' instead of 'float64' in a future version. Specify a dtype explicitly to silence this warning.\n  return pd.Series(rv_dict).value_counts().to_dict()\n"
     ]
    }
   ],
   "source": [
    "counted_keywords = tst['selftext'].apply(lambda x: flashtext_count(kp, x))\n",
    "keyword_df = counted_keywords.apply(pd.Series)\n",
    "keyword_df.fillna(0, inplace=True)"
   ]
  },
  {
   "cell_type": "code",
   "execution_count": 13,
   "metadata": {},
   "outputs": [],
   "source": [
    "tst = pd.merge(tst, keyword_df, left_index= True, right_index=True)"
   ]
  },
  {
   "cell_type": "code",
   "execution_count": 15,
   "metadata": {},
   "outputs": [],
   "source": [
    "tst2 = extant_posts[extant_posts['distinguished'] == 'moderator']\n",
    "#bots to drop are AutoModerator and BotForceOne"
   ]
  },
  {
   "cell_type": "code",
   "execution_count": 24,
   "metadata": {},
   "outputs": [],
   "source": [
    "dupes = extant_posts.groupby('selftext')['selftext'].count()"
   ]
  },
  {
   "cell_type": "code",
   "execution_count": 38,
   "metadata": {},
   "outputs": [
    {
     "output_type": "execute_result",
     "data": {
      "text/plain": [
       "                                                 selftext  count\n",
       "0                                                      ��    941\n",
       "1                                                    ����    760\n",
       "2                                                       F    626\n",
       "3       The_Donald is a 24/7 High Energy pro-Trump ral...    617\n",
       "4       Your comment was automatically removed because...    459\n",
       "...                                                   ...    ...\n",
       "758813  I just noticed that they don’t say:\\n\\n&gt;......      1\n",
       "758814  I just noticed that. Fucking auto correct. lol...      1\n",
       "758815  I just noticed the first guys pants are down a...      1\n",
       "758816            I just noticed the no socks thing. ����      1\n",
       "758817  ����������������������������������������������...      1\n",
       "\n",
       "[758818 rows x 2 columns]"
      ],
      "text/html": "<div>\n<style scoped>\n    .dataframe tbody tr th:only-of-type {\n        vertical-align: middle;\n    }\n\n    .dataframe tbody tr th {\n        vertical-align: top;\n    }\n\n    .dataframe thead th {\n        text-align: right;\n    }\n</style>\n<table border=\"1\" class=\"dataframe\">\n  <thead>\n    <tr style=\"text-align: right;\">\n      <th></th>\n      <th>selftext</th>\n      <th>count</th>\n    </tr>\n  </thead>\n  <tbody>\n    <tr>\n      <th>0</th>\n      <td>��</td>\n      <td>941</td>\n    </tr>\n    <tr>\n      <th>1</th>\n      <td>����</td>\n      <td>760</td>\n    </tr>\n    <tr>\n      <th>2</th>\n      <td>F</td>\n      <td>626</td>\n    </tr>\n    <tr>\n      <th>3</th>\n      <td>The_Donald is a 24/7 High Energy pro-Trump ral...</td>\n      <td>617</td>\n    </tr>\n    <tr>\n      <th>4</th>\n      <td>Your comment was automatically removed because...</td>\n      <td>459</td>\n    </tr>\n    <tr>\n      <th>...</th>\n      <td>...</td>\n      <td>...</td>\n    </tr>\n    <tr>\n      <th>758813</th>\n      <td>I just noticed that they don’t say:\\n\\n&amp;gt;......</td>\n      <td>1</td>\n    </tr>\n    <tr>\n      <th>758814</th>\n      <td>I just noticed that. Fucking auto correct. lol...</td>\n      <td>1</td>\n    </tr>\n    <tr>\n      <th>758815</th>\n      <td>I just noticed the first guys pants are down a...</td>\n      <td>1</td>\n    </tr>\n    <tr>\n      <th>758816</th>\n      <td>I just noticed the no socks thing. ����</td>\n      <td>1</td>\n    </tr>\n    <tr>\n      <th>758817</th>\n      <td>����������������������������������������������...</td>\n      <td>1</td>\n    </tr>\n  </tbody>\n</table>\n<p>758818 rows × 2 columns</p>\n</div>"
     },
     "metadata": {},
     "execution_count": 38
    }
   ],
   "source": [
    "dupes.name = 'count'\n",
    "dupes.reset_index()"
   ]
  },
  {
   "cell_type": "code",
   "execution_count": 40,
   "metadata": {},
   "outputs": [],
   "source": [
    "extant_posts = extant_posts.join(dupes, on = 'selftext', how = 'left')"
   ]
  },
  {
   "cell_type": "code",
   "execution_count": null,
   "metadata": {},
   "outputs": [],
   "source": []
  }
 ]
}