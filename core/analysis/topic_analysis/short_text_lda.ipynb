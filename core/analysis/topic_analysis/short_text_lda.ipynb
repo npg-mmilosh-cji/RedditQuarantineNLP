{
 "cells": [
  {
   "cell_type": "code",
   "execution_count": 2,
   "metadata": {},
   "outputs": [],
   "source": [
    "import os\n",
    "import math\n",
    "import pandas as pd\n",
    "import numpy as np\n",
    "import matplotlib as mpl\n",
    "import matplotlib.pyplot as plt\n",
    "import seaborn as sns\n",
    "from datetime import datetime\n",
    "from textblob import TextBlob"
   ]
  },
  {
   "cell_type": "code",
   "execution_count": 4,
   "metadata": {},
   "outputs": [],
   "source": [
    "data = pd.read_pickle(\"../../../sampled_processed_extant_posts.pkl\")"
   ]
  },
  {
   "cell_type": "code",
   "execution_count": 5,
   "metadata": {},
   "outputs": [
    {
     "name": "stdout",
     "output_type": "stream",
     "text": [
      "rows in data: 2695354\n"
     ]
    }
   ],
   "source": [
    "# should be 2,695,354\n",
    "print(f\"rows in data: {len(data)}\")"
   ]
  },
  {
   "cell_type": "code",
   "execution_count": 6,
   "metadata": {},
   "outputs": [
    {
     "data": {
      "text/html": [
       "<div>\n",
       "<style scoped>\n",
       "    .dataframe tbody tr th:only-of-type {\n",
       "        vertical-align: middle;\n",
       "    }\n",
       "\n",
       "    .dataframe tbody tr th {\n",
       "        vertical-align: top;\n",
       "    }\n",
       "\n",
       "    .dataframe thead th {\n",
       "        text-align: right;\n",
       "    }\n",
       "</style>\n",
       "<table border=\"1\" class=\"dataframe\">\n",
       "  <thead>\n",
       "    <tr style=\"text-align: right;\">\n",
       "      <th></th>\n",
       "      <th>text_clean_space</th>\n",
       "      <th>text_clean_punc_lower</th>\n",
       "      <th>len_clean</th>\n",
       "      <th>tokens</th>\n",
       "      <th>tokens_clean</th>\n",
       "      <th>tokens_lemma</th>\n",
       "      <th>bigrams</th>\n",
       "      <th>trigrams</th>\n",
       "    </tr>\n",
       "  </thead>\n",
       "  <tbody>\n",
       "    <tr>\n",
       "      <th>1021188</th>\n",
       "      <td>Hmmm. Interesting. See, not so sophisticated hah.</td>\n",
       "      <td>hmmm interesting see not so sophisticated hah</td>\n",
       "      <td>45</td>\n",
       "      <td>[hmmm, interesting, see, not, so, sophisticate...</td>\n",
       "      <td>[hmmm, interesting, see, sophisticated, hah]</td>\n",
       "      <td>[hmmm, interesting, see, sophisticated, hah]</td>\n",
       "      <td>[(hmmm, interesting), (interesting, see), (see...</td>\n",
       "      <td>[(hmmm, interesting, see), (interesting, see, ...</td>\n",
       "    </tr>\n",
       "    <tr>\n",
       "      <th>9531089</th>\n",
       "      <td>Thank you!!! I love you!!!</td>\n",
       "      <td>thank you i love you</td>\n",
       "      <td>20</td>\n",
       "      <td>[thank, you, i, love, you]</td>\n",
       "      <td>[thank, love]</td>\n",
       "      <td>[thank, love]</td>\n",
       "      <td>[(thank, love)]</td>\n",
       "      <td>[]</td>\n",
       "    </tr>\n",
       "    <tr>\n",
       "      <th>2720963</th>\n",
       "      <td>You do realise you're contradicting yourself r...</td>\n",
       "      <td>you do realise youre contradicting yourself right</td>\n",
       "      <td>49</td>\n",
       "      <td>[you, do, realise, youre, contradicting, yours...</td>\n",
       "      <td>[realise, contradicting, right]</td>\n",
       "      <td>[realise, contradicting, right]</td>\n",
       "      <td>[(realise, contradicting), (contradicting, rig...</td>\n",
       "      <td>[(realise, contradicting, right)]</td>\n",
       "    </tr>\n",
       "    <tr>\n",
       "      <th>9086559</th>\n",
       "      <td>Per the below comments, it will vary. That sai...</td>\n",
       "      <td>per the below comments it will vary that said ...</td>\n",
       "      <td>164</td>\n",
       "      <td>[per, the, below, comments, it, will, vary, th...</td>\n",
       "      <td>[per, comments, vary, said, would, expect, cou...</td>\n",
       "      <td>[per, comment, vary, said, would, expect, coul...</td>\n",
       "      <td>[(per, comment), (comment, vary), (vary, said)...</td>\n",
       "      <td>[(per, comment, vary), (comment, vary, said), ...</td>\n",
       "    </tr>\n",
       "    <tr>\n",
       "      <th>9102373</th>\n",
       "      <td></td>\n",
       "      <td></td>\n",
       "      <td>0</td>\n",
       "      <td>[]</td>\n",
       "      <td>[]</td>\n",
       "      <td>[]</td>\n",
       "      <td>[]</td>\n",
       "      <td>[]</td>\n",
       "    </tr>\n",
       "  </tbody>\n",
       "</table>\n",
       "</div>"
      ],
      "text/plain": [
       "                                          text_clean_space  \\\n",
       "1021188  Hmmm. Interesting. See, not so sophisticated hah.   \n",
       "9531089                         Thank you!!! I love you!!!   \n",
       "2720963  You do realise you're contradicting yourself r...   \n",
       "9086559  Per the below comments, it will vary. That sai...   \n",
       "9102373                                                      \n",
       "\n",
       "                                     text_clean_punc_lower  len_clean  \\\n",
       "1021188      hmmm interesting see not so sophisticated hah         45   \n",
       "9531089                               thank you i love you         20   \n",
       "2720963  you do realise youre contradicting yourself right         49   \n",
       "9086559  per the below comments it will vary that said ...        164   \n",
       "9102373                                                             0   \n",
       "\n",
       "                                                    tokens  \\\n",
       "1021188  [hmmm, interesting, see, not, so, sophisticate...   \n",
       "9531089                         [thank, you, i, love, you]   \n",
       "2720963  [you, do, realise, youre, contradicting, yours...   \n",
       "9086559  [per, the, below, comments, it, will, vary, th...   \n",
       "9102373                                                 []   \n",
       "\n",
       "                                              tokens_clean  \\\n",
       "1021188       [hmmm, interesting, see, sophisticated, hah]   \n",
       "9531089                                      [thank, love]   \n",
       "2720963                    [realise, contradicting, right]   \n",
       "9086559  [per, comments, vary, said, would, expect, cou...   \n",
       "9102373                                                 []   \n",
       "\n",
       "                                              tokens_lemma  \\\n",
       "1021188       [hmmm, interesting, see, sophisticated, hah]   \n",
       "9531089                                      [thank, love]   \n",
       "2720963                    [realise, contradicting, right]   \n",
       "9086559  [per, comment, vary, said, would, expect, coul...   \n",
       "9102373                                                 []   \n",
       "\n",
       "                                                   bigrams  \\\n",
       "1021188  [(hmmm, interesting), (interesting, see), (see...   \n",
       "9531089                                    [(thank, love)]   \n",
       "2720963  [(realise, contradicting), (contradicting, rig...   \n",
       "9086559  [(per, comment), (comment, vary), (vary, said)...   \n",
       "9102373                                                 []   \n",
       "\n",
       "                                                  trigrams  \n",
       "1021188  [(hmmm, interesting, see), (interesting, see, ...  \n",
       "9531089                                                 []  \n",
       "2720963                  [(realise, contradicting, right)]  \n",
       "9086559  [(per, comment, vary), (comment, vary, said), ...  \n",
       "9102373                                                 []  "
      ]
     },
     "execution_count": 6,
     "metadata": {},
     "output_type": "execute_result"
    }
   ],
   "source": [
    "data.head()"
   ]
  },
  {
   "cell_type": "code",
   "execution_count": null,
   "metadata": {},
   "outputs": [],
   "source": []
  }
 ],
 "metadata": {
  "kernelspec": {
   "display_name": "Python 3",
   "language": "python",
   "name": "python3"
  },
  "language_info": {
   "codemirror_mode": {
    "name": "ipython",
    "version": 3
   },
   "file_extension": ".py",
   "mimetype": "text/x-python",
   "name": "python",
   "nbconvert_exporter": "python",
   "pygments_lexer": "ipython3",
   "version": "3.8.8"
  }
 },
 "nbformat": 4,
 "nbformat_minor": 1
}
